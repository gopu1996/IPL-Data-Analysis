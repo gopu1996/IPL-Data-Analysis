{
 "cells": [
  {
   "cell_type": "markdown",
   "id": "73767d88",
   "metadata": {},
   "source": [
    "# IPL Data Analysis"
   ]
  },
  {
   "cell_type": "code",
   "execution_count": 1,
   "id": "e2cc5589",
   "metadata": {},
   "outputs": [],
   "source": [
    "import pandas as pd"
   ]
  },
  {
   "cell_type": "code",
   "execution_count": 2,
   "id": "55f999e0",
   "metadata": {},
   "outputs": [],
   "source": [
    "data = pd.read_csv(\"./Data/IPL DataSet/matches.csv\")"
   ]
  },
  {
   "cell_type": "code",
   "execution_count": 3,
   "id": "3c7ca0ae",
   "metadata": {},
   "outputs": [
    {
     "data": {
      "text/html": [
       "<div>\n",
       "<style scoped>\n",
       "    .dataframe tbody tr th:only-of-type {\n",
       "        vertical-align: middle;\n",
       "    }\n",
       "\n",
       "    .dataframe tbody tr th {\n",
       "        vertical-align: top;\n",
       "    }\n",
       "\n",
       "    .dataframe thead th {\n",
       "        text-align: right;\n",
       "    }\n",
       "</style>\n",
       "<table border=\"1\" class=\"dataframe\">\n",
       "  <thead>\n",
       "    <tr style=\"text-align: right;\">\n",
       "      <th></th>\n",
       "      <th>id</th>\n",
       "      <th>season</th>\n",
       "      <th>city</th>\n",
       "      <th>date</th>\n",
       "      <th>team1</th>\n",
       "      <th>team2</th>\n",
       "      <th>toss_winner</th>\n",
       "      <th>toss_decision</th>\n",
       "      <th>result</th>\n",
       "      <th>dl_applied</th>\n",
       "      <th>winner</th>\n",
       "      <th>win_by_runs</th>\n",
       "      <th>win_by_wickets</th>\n",
       "      <th>player_of_match</th>\n",
       "      <th>venue</th>\n",
       "      <th>umpire1</th>\n",
       "      <th>umpire2</th>\n",
       "      <th>umpire3</th>\n",
       "    </tr>\n",
       "  </thead>\n",
       "  <tbody>\n",
       "    <tr>\n",
       "      <th>0</th>\n",
       "      <td>1</td>\n",
       "      <td>2017</td>\n",
       "      <td>Hyderabad</td>\n",
       "      <td>2017-04-05</td>\n",
       "      <td>Sunrisers Hyderabad</td>\n",
       "      <td>Royal Challengers Bangalore</td>\n",
       "      <td>Royal Challengers Bangalore</td>\n",
       "      <td>field</td>\n",
       "      <td>normal</td>\n",
       "      <td>0</td>\n",
       "      <td>Sunrisers Hyderabad</td>\n",
       "      <td>35</td>\n",
       "      <td>0</td>\n",
       "      <td>Yuvraj Singh</td>\n",
       "      <td>Rajiv Gandhi International Stadium, Uppal</td>\n",
       "      <td>AY Dandekar</td>\n",
       "      <td>NJ Llong</td>\n",
       "      <td>NaN</td>\n",
       "    </tr>\n",
       "  </tbody>\n",
       "</table>\n",
       "</div>"
      ],
      "text/plain": [
       "   id  season       city        date                team1  \\\n",
       "0   1    2017  Hyderabad  2017-04-05  Sunrisers Hyderabad   \n",
       "\n",
       "                         team2                  toss_winner toss_decision  \\\n",
       "0  Royal Challengers Bangalore  Royal Challengers Bangalore         field   \n",
       "\n",
       "   result  dl_applied               winner  win_by_runs  win_by_wickets  \\\n",
       "0  normal           0  Sunrisers Hyderabad           35               0   \n",
       "\n",
       "  player_of_match                                      venue      umpire1  \\\n",
       "0    Yuvraj Singh  Rajiv Gandhi International Stadium, Uppal  AY Dandekar   \n",
       "\n",
       "    umpire2 umpire3  \n",
       "0  NJ Llong     NaN  "
      ]
     },
     "execution_count": 3,
     "metadata": {},
     "output_type": "execute_result"
    }
   ],
   "source": [
    "data.head(1)"
   ]
  },
  {
   "cell_type": "markdown",
   "id": "b3a06274",
   "metadata": {},
   "source": [
    "### Total Number Matches Played In IPL Till 2019 "
   ]
  },
  {
   "cell_type": "code",
   "execution_count": 4,
   "id": "5e9f28e3",
   "metadata": {},
   "outputs": [
    {
     "data": {
      "text/plain": [
       "756"
      ]
     },
     "execution_count": 4,
     "metadata": {},
     "output_type": "execute_result"
    }
   ],
   "source": [
    "data.shape[0]"
   ]
  },
  {
   "cell_type": "code",
   "execution_count": 5,
   "id": "0d18a0bc",
   "metadata": {},
   "outputs": [
    {
     "name": "stdout",
     "output_type": "stream",
     "text": [
      "<class 'pandas.core.frame.DataFrame'>\n",
      "RangeIndex: 756 entries, 0 to 755\n",
      "Data columns (total 18 columns):\n",
      " #   Column           Non-Null Count  Dtype \n",
      "---  ------           --------------  ----- \n",
      " 0   id               756 non-null    int64 \n",
      " 1   season           756 non-null    int64 \n",
      " 2   city             749 non-null    object\n",
      " 3   date             756 non-null    object\n",
      " 4   team1            756 non-null    object\n",
      " 5   team2            756 non-null    object\n",
      " 6   toss_winner      756 non-null    object\n",
      " 7   toss_decision    756 non-null    object\n",
      " 8   result           756 non-null    object\n",
      " 9   dl_applied       756 non-null    int64 \n",
      " 10  winner           752 non-null    object\n",
      " 11  win_by_runs      756 non-null    int64 \n",
      " 12  win_by_wickets   756 non-null    int64 \n",
      " 13  player_of_match  752 non-null    object\n",
      " 14  venue            756 non-null    object\n",
      " 15  umpire1          754 non-null    object\n",
      " 16  umpire2          754 non-null    object\n",
      " 17  umpire3          119 non-null    object\n",
      "dtypes: int64(5), object(13)\n",
      "memory usage: 106.4+ KB\n"
     ]
    }
   ],
   "source": [
    "data.info()"
   ]
  },
  {
   "cell_type": "code",
   "execution_count": 6,
   "id": "741c221e",
   "metadata": {},
   "outputs": [
    {
     "data": {
      "text/html": [
       "<div>\n",
       "<style scoped>\n",
       "    .dataframe tbody tr th:only-of-type {\n",
       "        vertical-align: middle;\n",
       "    }\n",
       "\n",
       "    .dataframe tbody tr th {\n",
       "        vertical-align: top;\n",
       "    }\n",
       "\n",
       "    .dataframe thead th {\n",
       "        text-align: right;\n",
       "    }\n",
       "</style>\n",
       "<table border=\"1\" class=\"dataframe\">\n",
       "  <thead>\n",
       "    <tr style=\"text-align: right;\">\n",
       "      <th></th>\n",
       "      <th>id</th>\n",
       "      <th>season</th>\n",
       "      <th>dl_applied</th>\n",
       "      <th>win_by_runs</th>\n",
       "      <th>win_by_wickets</th>\n",
       "    </tr>\n",
       "  </thead>\n",
       "  <tbody>\n",
       "    <tr>\n",
       "      <th>count</th>\n",
       "      <td>756.000000</td>\n",
       "      <td>756.000000</td>\n",
       "      <td>756.000000</td>\n",
       "      <td>756.000000</td>\n",
       "      <td>756.000000</td>\n",
       "    </tr>\n",
       "    <tr>\n",
       "      <th>mean</th>\n",
       "      <td>1792.178571</td>\n",
       "      <td>2013.444444</td>\n",
       "      <td>0.025132</td>\n",
       "      <td>13.283069</td>\n",
       "      <td>3.350529</td>\n",
       "    </tr>\n",
       "    <tr>\n",
       "      <th>std</th>\n",
       "      <td>3464.478148</td>\n",
       "      <td>3.366895</td>\n",
       "      <td>0.156630</td>\n",
       "      <td>23.471144</td>\n",
       "      <td>3.387963</td>\n",
       "    </tr>\n",
       "    <tr>\n",
       "      <th>min</th>\n",
       "      <td>1.000000</td>\n",
       "      <td>2008.000000</td>\n",
       "      <td>0.000000</td>\n",
       "      <td>0.000000</td>\n",
       "      <td>0.000000</td>\n",
       "    </tr>\n",
       "    <tr>\n",
       "      <th>25%</th>\n",
       "      <td>189.750000</td>\n",
       "      <td>2011.000000</td>\n",
       "      <td>0.000000</td>\n",
       "      <td>0.000000</td>\n",
       "      <td>0.000000</td>\n",
       "    </tr>\n",
       "    <tr>\n",
       "      <th>50%</th>\n",
       "      <td>378.500000</td>\n",
       "      <td>2013.000000</td>\n",
       "      <td>0.000000</td>\n",
       "      <td>0.000000</td>\n",
       "      <td>4.000000</td>\n",
       "    </tr>\n",
       "    <tr>\n",
       "      <th>75%</th>\n",
       "      <td>567.250000</td>\n",
       "      <td>2016.000000</td>\n",
       "      <td>0.000000</td>\n",
       "      <td>19.000000</td>\n",
       "      <td>6.000000</td>\n",
       "    </tr>\n",
       "    <tr>\n",
       "      <th>max</th>\n",
       "      <td>11415.000000</td>\n",
       "      <td>2019.000000</td>\n",
       "      <td>1.000000</td>\n",
       "      <td>146.000000</td>\n",
       "      <td>10.000000</td>\n",
       "    </tr>\n",
       "  </tbody>\n",
       "</table>\n",
       "</div>"
      ],
      "text/plain": [
       "                 id       season  dl_applied  win_by_runs  win_by_wickets\n",
       "count    756.000000   756.000000  756.000000   756.000000      756.000000\n",
       "mean    1792.178571  2013.444444    0.025132    13.283069        3.350529\n",
       "std     3464.478148     3.366895    0.156630    23.471144        3.387963\n",
       "min        1.000000  2008.000000    0.000000     0.000000        0.000000\n",
       "25%      189.750000  2011.000000    0.000000     0.000000        0.000000\n",
       "50%      378.500000  2013.000000    0.000000     0.000000        4.000000\n",
       "75%      567.250000  2016.000000    0.000000    19.000000        6.000000\n",
       "max    11415.000000  2019.000000    1.000000   146.000000       10.000000"
      ]
     },
     "execution_count": 6,
     "metadata": {},
     "output_type": "execute_result"
    }
   ],
   "source": [
    "data.describe()"
   ]
  },
  {
   "cell_type": "code",
   "execution_count": 7,
   "id": "741aeca7",
   "metadata": {},
   "outputs": [
    {
     "data": {
      "text/html": [
       "<div>\n",
       "<style scoped>\n",
       "    .dataframe tbody tr th:only-of-type {\n",
       "        vertical-align: middle;\n",
       "    }\n",
       "\n",
       "    .dataframe tbody tr th {\n",
       "        vertical-align: top;\n",
       "    }\n",
       "\n",
       "    .dataframe thead th {\n",
       "        text-align: right;\n",
       "    }\n",
       "</style>\n",
       "<table border=\"1\" class=\"dataframe\">\n",
       "  <thead>\n",
       "    <tr style=\"text-align: right;\">\n",
       "      <th></th>\n",
       "      <th>id</th>\n",
       "      <th>season</th>\n",
       "      <th>city</th>\n",
       "      <th>date</th>\n",
       "      <th>team1</th>\n",
       "      <th>team2</th>\n",
       "      <th>toss_winner</th>\n",
       "      <th>toss_decision</th>\n",
       "      <th>result</th>\n",
       "      <th>dl_applied</th>\n",
       "      <th>winner</th>\n",
       "      <th>win_by_runs</th>\n",
       "      <th>win_by_wickets</th>\n",
       "      <th>player_of_match</th>\n",
       "      <th>venue</th>\n",
       "      <th>umpire1</th>\n",
       "      <th>umpire2</th>\n",
       "      <th>umpire3</th>\n",
       "    </tr>\n",
       "  </thead>\n",
       "  <tbody>\n",
       "    <tr>\n",
       "      <th>0</th>\n",
       "      <td>1</td>\n",
       "      <td>2017</td>\n",
       "      <td>Hyderabad</td>\n",
       "      <td>2017-04-05</td>\n",
       "      <td>Sunrisers Hyderabad</td>\n",
       "      <td>Royal Challengers Bangalore</td>\n",
       "      <td>Royal Challengers Bangalore</td>\n",
       "      <td>field</td>\n",
       "      <td>normal</td>\n",
       "      <td>0</td>\n",
       "      <td>Sunrisers Hyderabad</td>\n",
       "      <td>35</td>\n",
       "      <td>0</td>\n",
       "      <td>Yuvraj Singh</td>\n",
       "      <td>Rajiv Gandhi International Stadium, Uppal</td>\n",
       "      <td>AY Dandekar</td>\n",
       "      <td>NJ Llong</td>\n",
       "      <td>NaN</td>\n",
       "    </tr>\n",
       "  </tbody>\n",
       "</table>\n",
       "</div>"
      ],
      "text/plain": [
       "   id  season       city        date                team1  \\\n",
       "0   1    2017  Hyderabad  2017-04-05  Sunrisers Hyderabad   \n",
       "\n",
       "                         team2                  toss_winner toss_decision  \\\n",
       "0  Royal Challengers Bangalore  Royal Challengers Bangalore         field   \n",
       "\n",
       "   result  dl_applied               winner  win_by_runs  win_by_wickets  \\\n",
       "0  normal           0  Sunrisers Hyderabad           35               0   \n",
       "\n",
       "  player_of_match                                      venue      umpire1  \\\n",
       "0    Yuvraj Singh  Rajiv Gandhi International Stadium, Uppal  AY Dandekar   \n",
       "\n",
       "    umpire2 umpire3  \n",
       "0  NJ Llong     NaN  "
      ]
     },
     "execution_count": 7,
     "metadata": {},
     "output_type": "execute_result"
    }
   ],
   "source": [
    "data.head(1)"
   ]
  },
  {
   "cell_type": "code",
   "execution_count": null,
   "id": "c39c8224",
   "metadata": {},
   "outputs": [],
   "source": []
  },
  {
   "cell_type": "code",
   "execution_count": 8,
   "id": "c4509308",
   "metadata": {},
   "outputs": [
    {
     "data": {
      "text/html": [
       "<div>\n",
       "<style scoped>\n",
       "    .dataframe tbody tr th:only-of-type {\n",
       "        vertical-align: middle;\n",
       "    }\n",
       "\n",
       "    .dataframe tbody tr th {\n",
       "        vertical-align: top;\n",
       "    }\n",
       "\n",
       "    .dataframe thead th {\n",
       "        text-align: right;\n",
       "    }\n",
       "</style>\n",
       "<table border=\"1\" class=\"dataframe\">\n",
       "  <thead>\n",
       "    <tr style=\"text-align: right;\">\n",
       "      <th></th>\n",
       "      <th>season</th>\n",
       "      <th>team1</th>\n",
       "      <th>team2</th>\n",
       "      <th>winner</th>\n",
       "    </tr>\n",
       "  </thead>\n",
       "  <tbody>\n",
       "    <tr>\n",
       "      <th>0</th>\n",
       "      <td>2017</td>\n",
       "      <td>Sunrisers Hyderabad</td>\n",
       "      <td>Royal Challengers Bangalore</td>\n",
       "      <td>Sunrisers Hyderabad</td>\n",
       "    </tr>\n",
       "    <tr>\n",
       "      <th>1</th>\n",
       "      <td>2017</td>\n",
       "      <td>Mumbai Indians</td>\n",
       "      <td>Rising Pune Supergiant</td>\n",
       "      <td>Rising Pune Supergiant</td>\n",
       "    </tr>\n",
       "    <tr>\n",
       "      <th>2</th>\n",
       "      <td>2017</td>\n",
       "      <td>Gujarat Lions</td>\n",
       "      <td>Kolkata Knight Riders</td>\n",
       "      <td>Kolkata Knight Riders</td>\n",
       "    </tr>\n",
       "    <tr>\n",
       "      <th>3</th>\n",
       "      <td>2017</td>\n",
       "      <td>Rising Pune Supergiant</td>\n",
       "      <td>Kings XI Punjab</td>\n",
       "      <td>Kings XI Punjab</td>\n",
       "    </tr>\n",
       "    <tr>\n",
       "      <th>4</th>\n",
       "      <td>2017</td>\n",
       "      <td>Royal Challengers Bangalore</td>\n",
       "      <td>Delhi Daredevils</td>\n",
       "      <td>Royal Challengers Bangalore</td>\n",
       "    </tr>\n",
       "    <tr>\n",
       "      <th>...</th>\n",
       "      <td>...</td>\n",
       "      <td>...</td>\n",
       "      <td>...</td>\n",
       "      <td>...</td>\n",
       "    </tr>\n",
       "    <tr>\n",
       "      <th>751</th>\n",
       "      <td>2019</td>\n",
       "      <td>Kolkata Knight Riders</td>\n",
       "      <td>Mumbai Indians</td>\n",
       "      <td>Mumbai Indians</td>\n",
       "    </tr>\n",
       "    <tr>\n",
       "      <th>752</th>\n",
       "      <td>2019</td>\n",
       "      <td>Chennai Super Kings</td>\n",
       "      <td>Mumbai Indians</td>\n",
       "      <td>Mumbai Indians</td>\n",
       "    </tr>\n",
       "    <tr>\n",
       "      <th>753</th>\n",
       "      <td>2019</td>\n",
       "      <td>Sunrisers Hyderabad</td>\n",
       "      <td>Delhi Capitals</td>\n",
       "      <td>Delhi Capitals</td>\n",
       "    </tr>\n",
       "    <tr>\n",
       "      <th>754</th>\n",
       "      <td>2019</td>\n",
       "      <td>Delhi Capitals</td>\n",
       "      <td>Chennai Super Kings</td>\n",
       "      <td>Chennai Super Kings</td>\n",
       "    </tr>\n",
       "    <tr>\n",
       "      <th>755</th>\n",
       "      <td>2019</td>\n",
       "      <td>Mumbai Indians</td>\n",
       "      <td>Chennai Super Kings</td>\n",
       "      <td>Mumbai Indians</td>\n",
       "    </tr>\n",
       "  </tbody>\n",
       "</table>\n",
       "<p>756 rows × 4 columns</p>\n",
       "</div>"
      ],
      "text/plain": [
       "     season                        team1                        team2  \\\n",
       "0      2017          Sunrisers Hyderabad  Royal Challengers Bangalore   \n",
       "1      2017               Mumbai Indians       Rising Pune Supergiant   \n",
       "2      2017                Gujarat Lions        Kolkata Knight Riders   \n",
       "3      2017       Rising Pune Supergiant              Kings XI Punjab   \n",
       "4      2017  Royal Challengers Bangalore             Delhi Daredevils   \n",
       "..      ...                          ...                          ...   \n",
       "751    2019        Kolkata Knight Riders               Mumbai Indians   \n",
       "752    2019          Chennai Super Kings               Mumbai Indians   \n",
       "753    2019          Sunrisers Hyderabad               Delhi Capitals   \n",
       "754    2019               Delhi Capitals          Chennai Super Kings   \n",
       "755    2019               Mumbai Indians          Chennai Super Kings   \n",
       "\n",
       "                          winner  \n",
       "0            Sunrisers Hyderabad  \n",
       "1         Rising Pune Supergiant  \n",
       "2          Kolkata Knight Riders  \n",
       "3                Kings XI Punjab  \n",
       "4    Royal Challengers Bangalore  \n",
       "..                           ...  \n",
       "751               Mumbai Indians  \n",
       "752               Mumbai Indians  \n",
       "753               Delhi Capitals  \n",
       "754          Chennai Super Kings  \n",
       "755               Mumbai Indians  \n",
       "\n",
       "[756 rows x 4 columns]"
      ]
     },
     "execution_count": 8,
     "metadata": {},
     "output_type": "execute_result"
    }
   ],
   "source": [
    "data[['season','team1','team2','winner']]"
   ]
  },
  {
   "cell_type": "code",
   "execution_count": 9,
   "id": "afcbbc6a",
   "metadata": {},
   "outputs": [
    {
     "data": {
      "text/html": [
       "<div>\n",
       "<style scoped>\n",
       "    .dataframe tbody tr th:only-of-type {\n",
       "        vertical-align: middle;\n",
       "    }\n",
       "\n",
       "    .dataframe tbody tr th {\n",
       "        vertical-align: top;\n",
       "    }\n",
       "\n",
       "    .dataframe thead th {\n",
       "        text-align: right;\n",
       "    }\n",
       "</style>\n",
       "<table border=\"1\" class=\"dataframe\">\n",
       "  <thead>\n",
       "    <tr style=\"text-align: right;\">\n",
       "      <th></th>\n",
       "      <th>id</th>\n",
       "      <th>season</th>\n",
       "      <th>city</th>\n",
       "      <th>date</th>\n",
       "      <th>team1</th>\n",
       "      <th>team2</th>\n",
       "      <th>toss_winner</th>\n",
       "      <th>toss_decision</th>\n",
       "      <th>result</th>\n",
       "      <th>dl_applied</th>\n",
       "      <th>winner</th>\n",
       "      <th>win_by_runs</th>\n",
       "      <th>win_by_wickets</th>\n",
       "      <th>player_of_match</th>\n",
       "      <th>venue</th>\n",
       "      <th>umpire1</th>\n",
       "      <th>umpire2</th>\n",
       "      <th>umpire3</th>\n",
       "    </tr>\n",
       "  </thead>\n",
       "  <tbody>\n",
       "    <tr>\n",
       "      <th>0</th>\n",
       "      <td>1</td>\n",
       "      <td>2017</td>\n",
       "      <td>Hyderabad</td>\n",
       "      <td>2017-04-05</td>\n",
       "      <td>Sunrisers Hyderabad</td>\n",
       "      <td>Royal Challengers Bangalore</td>\n",
       "      <td>Royal Challengers Bangalore</td>\n",
       "      <td>field</td>\n",
       "      <td>normal</td>\n",
       "      <td>0</td>\n",
       "      <td>Sunrisers Hyderabad</td>\n",
       "      <td>35</td>\n",
       "      <td>0</td>\n",
       "      <td>Yuvraj Singh</td>\n",
       "      <td>Rajiv Gandhi International Stadium, Uppal</td>\n",
       "      <td>AY Dandekar</td>\n",
       "      <td>NJ Llong</td>\n",
       "      <td>NaN</td>\n",
       "    </tr>\n",
       "    <tr>\n",
       "      <th>5</th>\n",
       "      <td>6</td>\n",
       "      <td>2017</td>\n",
       "      <td>Hyderabad</td>\n",
       "      <td>2017-04-09</td>\n",
       "      <td>Gujarat Lions</td>\n",
       "      <td>Sunrisers Hyderabad</td>\n",
       "      <td>Sunrisers Hyderabad</td>\n",
       "      <td>field</td>\n",
       "      <td>normal</td>\n",
       "      <td>0</td>\n",
       "      <td>Sunrisers Hyderabad</td>\n",
       "      <td>0</td>\n",
       "      <td>9</td>\n",
       "      <td>Rashid Khan</td>\n",
       "      <td>Rajiv Gandhi International Stadium, Uppal</td>\n",
       "      <td>A Deshmukh</td>\n",
       "      <td>NJ Llong</td>\n",
       "      <td>NaN</td>\n",
       "    </tr>\n",
       "    <tr>\n",
       "      <th>6</th>\n",
       "      <td>7</td>\n",
       "      <td>2017</td>\n",
       "      <td>Mumbai</td>\n",
       "      <td>2017-04-09</td>\n",
       "      <td>Kolkata Knight Riders</td>\n",
       "      <td>Mumbai Indians</td>\n",
       "      <td>Mumbai Indians</td>\n",
       "      <td>field</td>\n",
       "      <td>normal</td>\n",
       "      <td>0</td>\n",
       "      <td>Mumbai Indians</td>\n",
       "      <td>0</td>\n",
       "      <td>4</td>\n",
       "      <td>N Rana</td>\n",
       "      <td>Wankhede Stadium</td>\n",
       "      <td>Nitin Menon</td>\n",
       "      <td>CK Nandan</td>\n",
       "      <td>NaN</td>\n",
       "    </tr>\n",
       "  </tbody>\n",
       "</table>\n",
       "</div>"
      ],
      "text/plain": [
       "   id  season       city        date                  team1  \\\n",
       "0   1    2017  Hyderabad  2017-04-05    Sunrisers Hyderabad   \n",
       "5   6    2017  Hyderabad  2017-04-09          Gujarat Lions   \n",
       "6   7    2017     Mumbai  2017-04-09  Kolkata Knight Riders   \n",
       "\n",
       "                         team2                  toss_winner toss_decision  \\\n",
       "0  Royal Challengers Bangalore  Royal Challengers Bangalore         field   \n",
       "5          Sunrisers Hyderabad          Sunrisers Hyderabad         field   \n",
       "6               Mumbai Indians               Mumbai Indians         field   \n",
       "\n",
       "   result  dl_applied               winner  win_by_runs  win_by_wickets  \\\n",
       "0  normal           0  Sunrisers Hyderabad           35               0   \n",
       "5  normal           0  Sunrisers Hyderabad            0               9   \n",
       "6  normal           0       Mumbai Indians            0               4   \n",
       "\n",
       "  player_of_match                                      venue      umpire1  \\\n",
       "0    Yuvraj Singh  Rajiv Gandhi International Stadium, Uppal  AY Dandekar   \n",
       "5     Rashid Khan  Rajiv Gandhi International Stadium, Uppal   A Deshmukh   \n",
       "6          N Rana                           Wankhede Stadium  Nitin Menon   \n",
       "\n",
       "     umpire2 umpire3  \n",
       "0   NJ Llong     NaN  \n",
       "5   NJ Llong     NaN  \n",
       "6  CK Nandan     NaN  "
      ]
     },
     "execution_count": 9,
     "metadata": {},
     "output_type": "execute_result"
    }
   ],
   "source": [
    "data.iloc[[0,5,6]]"
   ]
  },
  {
   "cell_type": "code",
   "execution_count": 10,
   "id": "b9cee727",
   "metadata": {},
   "outputs": [
    {
     "data": {
      "text/html": [
       "<div>\n",
       "<style scoped>\n",
       "    .dataframe tbody tr th:only-of-type {\n",
       "        vertical-align: middle;\n",
       "    }\n",
       "\n",
       "    .dataframe tbody tr th {\n",
       "        vertical-align: top;\n",
       "    }\n",
       "\n",
       "    .dataframe thead th {\n",
       "        text-align: right;\n",
       "    }\n",
       "</style>\n",
       "<table border=\"1\" class=\"dataframe\">\n",
       "  <thead>\n",
       "    <tr style=\"text-align: right;\">\n",
       "      <th></th>\n",
       "      <th>season</th>\n",
       "      <th>team1</th>\n",
       "      <th>team2</th>\n",
       "      <th>winner</th>\n",
       "    </tr>\n",
       "  </thead>\n",
       "  <tbody>\n",
       "    <tr>\n",
       "      <th>0</th>\n",
       "      <td>2017</td>\n",
       "      <td>Sunrisers Hyderabad</td>\n",
       "      <td>Royal Challengers Bangalore</td>\n",
       "      <td>Sunrisers Hyderabad</td>\n",
       "    </tr>\n",
       "    <tr>\n",
       "      <th>1</th>\n",
       "      <td>2017</td>\n",
       "      <td>Mumbai Indians</td>\n",
       "      <td>Rising Pune Supergiant</td>\n",
       "      <td>Rising Pune Supergiant</td>\n",
       "    </tr>\n",
       "    <tr>\n",
       "      <th>2</th>\n",
       "      <td>2017</td>\n",
       "      <td>Gujarat Lions</td>\n",
       "      <td>Kolkata Knight Riders</td>\n",
       "      <td>Kolkata Knight Riders</td>\n",
       "    </tr>\n",
       "    <tr>\n",
       "      <th>3</th>\n",
       "      <td>2017</td>\n",
       "      <td>Rising Pune Supergiant</td>\n",
       "      <td>Kings XI Punjab</td>\n",
       "      <td>Kings XI Punjab</td>\n",
       "    </tr>\n",
       "    <tr>\n",
       "      <th>4</th>\n",
       "      <td>2017</td>\n",
       "      <td>Royal Challengers Bangalore</td>\n",
       "      <td>Delhi Daredevils</td>\n",
       "      <td>Royal Challengers Bangalore</td>\n",
       "    </tr>\n",
       "    <tr>\n",
       "      <th>...</th>\n",
       "      <td>...</td>\n",
       "      <td>...</td>\n",
       "      <td>...</td>\n",
       "      <td>...</td>\n",
       "    </tr>\n",
       "    <tr>\n",
       "      <th>751</th>\n",
       "      <td>2019</td>\n",
       "      <td>Kolkata Knight Riders</td>\n",
       "      <td>Mumbai Indians</td>\n",
       "      <td>Mumbai Indians</td>\n",
       "    </tr>\n",
       "    <tr>\n",
       "      <th>752</th>\n",
       "      <td>2019</td>\n",
       "      <td>Chennai Super Kings</td>\n",
       "      <td>Mumbai Indians</td>\n",
       "      <td>Mumbai Indians</td>\n",
       "    </tr>\n",
       "    <tr>\n",
       "      <th>753</th>\n",
       "      <td>2019</td>\n",
       "      <td>Sunrisers Hyderabad</td>\n",
       "      <td>Delhi Capitals</td>\n",
       "      <td>Delhi Capitals</td>\n",
       "    </tr>\n",
       "    <tr>\n",
       "      <th>754</th>\n",
       "      <td>2019</td>\n",
       "      <td>Delhi Capitals</td>\n",
       "      <td>Chennai Super Kings</td>\n",
       "      <td>Chennai Super Kings</td>\n",
       "    </tr>\n",
       "    <tr>\n",
       "      <th>755</th>\n",
       "      <td>2019</td>\n",
       "      <td>Mumbai Indians</td>\n",
       "      <td>Chennai Super Kings</td>\n",
       "      <td>Mumbai Indians</td>\n",
       "    </tr>\n",
       "  </tbody>\n",
       "</table>\n",
       "<p>756 rows × 4 columns</p>\n",
       "</div>"
      ],
      "text/plain": [
       "     season                        team1                        team2  \\\n",
       "0      2017          Sunrisers Hyderabad  Royal Challengers Bangalore   \n",
       "1      2017               Mumbai Indians       Rising Pune Supergiant   \n",
       "2      2017                Gujarat Lions        Kolkata Knight Riders   \n",
       "3      2017       Rising Pune Supergiant              Kings XI Punjab   \n",
       "4      2017  Royal Challengers Bangalore             Delhi Daredevils   \n",
       "..      ...                          ...                          ...   \n",
       "751    2019        Kolkata Knight Riders               Mumbai Indians   \n",
       "752    2019          Chennai Super Kings               Mumbai Indians   \n",
       "753    2019          Sunrisers Hyderabad               Delhi Capitals   \n",
       "754    2019               Delhi Capitals          Chennai Super Kings   \n",
       "755    2019               Mumbai Indians          Chennai Super Kings   \n",
       "\n",
       "                          winner  \n",
       "0            Sunrisers Hyderabad  \n",
       "1         Rising Pune Supergiant  \n",
       "2          Kolkata Knight Riders  \n",
       "3                Kings XI Punjab  \n",
       "4    Royal Challengers Bangalore  \n",
       "..                           ...  \n",
       "751               Mumbai Indians  \n",
       "752               Mumbai Indians  \n",
       "753               Delhi Capitals  \n",
       "754          Chennai Super Kings  \n",
       "755               Mumbai Indians  \n",
       "\n",
       "[756 rows x 4 columns]"
      ]
     },
     "execution_count": 10,
     "metadata": {},
     "output_type": "execute_result"
    }
   ],
   "source": [
    "data.iloc[:,[1,4,5,10]]"
   ]
  },
  {
   "cell_type": "markdown",
   "id": "8d4456e1",
   "metadata": {},
   "source": [
    "### NO. OF MATCHES HELD IN HYDERABAD"
   ]
  },
  {
   "cell_type": "code",
   "execution_count": 11,
   "id": "04a84d26",
   "metadata": {},
   "outputs": [
    {
     "data": {
      "text/html": [
       "<div>\n",
       "<style scoped>\n",
       "    .dataframe tbody tr th:only-of-type {\n",
       "        vertical-align: middle;\n",
       "    }\n",
       "\n",
       "    .dataframe tbody tr th {\n",
       "        vertical-align: top;\n",
       "    }\n",
       "\n",
       "    .dataframe thead th {\n",
       "        text-align: right;\n",
       "    }\n",
       "</style>\n",
       "<table border=\"1\" class=\"dataframe\">\n",
       "  <thead>\n",
       "    <tr style=\"text-align: right;\">\n",
       "      <th></th>\n",
       "      <th>id</th>\n",
       "      <th>season</th>\n",
       "      <th>city</th>\n",
       "      <th>date</th>\n",
       "      <th>team1</th>\n",
       "      <th>team2</th>\n",
       "      <th>toss_winner</th>\n",
       "      <th>toss_decision</th>\n",
       "      <th>result</th>\n",
       "      <th>dl_applied</th>\n",
       "      <th>winner</th>\n",
       "      <th>win_by_runs</th>\n",
       "      <th>win_by_wickets</th>\n",
       "      <th>player_of_match</th>\n",
       "      <th>venue</th>\n",
       "      <th>umpire1</th>\n",
       "      <th>umpire2</th>\n",
       "      <th>umpire3</th>\n",
       "    </tr>\n",
       "  </thead>\n",
       "  <tbody>\n",
       "    <tr>\n",
       "      <th>0</th>\n",
       "      <td>1</td>\n",
       "      <td>2017</td>\n",
       "      <td>Hyderabad</td>\n",
       "      <td>2017-04-05</td>\n",
       "      <td>Sunrisers Hyderabad</td>\n",
       "      <td>Royal Challengers Bangalore</td>\n",
       "      <td>Royal Challengers Bangalore</td>\n",
       "      <td>field</td>\n",
       "      <td>normal</td>\n",
       "      <td>0</td>\n",
       "      <td>Sunrisers Hyderabad</td>\n",
       "      <td>35</td>\n",
       "      <td>0</td>\n",
       "      <td>Yuvraj Singh</td>\n",
       "      <td>Rajiv Gandhi International Stadium, Uppal</td>\n",
       "      <td>AY Dandekar</td>\n",
       "      <td>NJ Llong</td>\n",
       "      <td>NaN</td>\n",
       "    </tr>\n",
       "  </tbody>\n",
       "</table>\n",
       "</div>"
      ],
      "text/plain": [
       "   id  season       city        date                team1  \\\n",
       "0   1    2017  Hyderabad  2017-04-05  Sunrisers Hyderabad   \n",
       "\n",
       "                         team2                  toss_winner toss_decision  \\\n",
       "0  Royal Challengers Bangalore  Royal Challengers Bangalore         field   \n",
       "\n",
       "   result  dl_applied               winner  win_by_runs  win_by_wickets  \\\n",
       "0  normal           0  Sunrisers Hyderabad           35               0   \n",
       "\n",
       "  player_of_match                                      venue      umpire1  \\\n",
       "0    Yuvraj Singh  Rajiv Gandhi International Stadium, Uppal  AY Dandekar   \n",
       "\n",
       "    umpire2 umpire3  \n",
       "0  NJ Llong     NaN  "
      ]
     },
     "execution_count": 11,
     "metadata": {},
     "output_type": "execute_result"
    }
   ],
   "source": [
    "data.head(1)"
   ]
  },
  {
   "cell_type": "code",
   "execution_count": 12,
   "id": "6c4eb43a",
   "metadata": {},
   "outputs": [],
   "source": [
    "mask = data['city'] == 'Hyderabad'"
   ]
  },
  {
   "cell_type": "code",
   "execution_count": 13,
   "id": "4a321b2e",
   "metadata": {},
   "outputs": [
    {
     "data": {
      "text/plain": [
       "64"
      ]
     },
     "execution_count": 13,
     "metadata": {},
     "output_type": "execute_result"
    }
   ],
   "source": [
    "data[mask].shape[0]"
   ]
  },
  {
   "cell_type": "markdown",
   "id": "f4a5470d",
   "metadata": {},
   "source": [
    "### NO. OF MATCHES HELD IN HYDERABAD AFTER 2010"
   ]
  },
  {
   "cell_type": "code",
   "execution_count": 14,
   "id": "e6982c4f",
   "metadata": {},
   "outputs": [
    {
     "data": {
      "text/plain": [
       "48"
      ]
     },
     "execution_count": 14,
     "metadata": {},
     "output_type": "execute_result"
    }
   ],
   "source": [
    "\n",
    "mask1 = data['city'] == 'Hyderabad'\n",
    "mask_date = data['date'] > '2010-01-01'\n",
    "\n",
    "data[mask1 & mask_date].shape[0]"
   ]
  },
  {
   "cell_type": "markdown",
   "id": "f389cf85",
   "metadata": {},
   "source": [
    "\n",
    "\n",
    "\n",
    "### How many matches has each team won "
   ]
  },
  {
   "cell_type": "code",
   "execution_count": 15,
   "id": "7f81981b",
   "metadata": {},
   "outputs": [
    {
     "data": {
      "text/plain": [
       "Mumbai Indians                 109\n",
       "Chennai Super Kings            100\n",
       "Kolkata Knight Riders           92\n",
       "Royal Challengers Bangalore     84\n",
       "Kings XI Punjab                 82\n",
       "Rajasthan Royals                75\n",
       "Delhi Daredevils                67\n",
       "Sunrisers Hyderabad             58\n",
       "Deccan Chargers                 29\n",
       "Gujarat Lions                   13\n",
       "Pune Warriors                   12\n",
       "Rising Pune Supergiant          10\n",
       "Delhi Capitals                  10\n",
       "Kochi Tuskers Kerala             6\n",
       "Rising Pune Supergiants          5\n",
       "Name: winner, dtype: int64"
      ]
     },
     "execution_count": 15,
     "metadata": {},
     "output_type": "execute_result"
    }
   ],
   "source": [
    "data['winner'].value_counts()"
   ]
  },
  {
   "cell_type": "code",
   "execution_count": 16,
   "id": "976d4c98",
   "metadata": {},
   "outputs": [],
   "source": [
    "import matplotlib.pyplot as plt"
   ]
  },
  {
   "cell_type": "code",
   "execution_count": 17,
   "id": "9303dfe8",
   "metadata": {},
   "outputs": [
    {
     "data": {
      "text/plain": [
       "<AxesSubplot:>"
      ]
     },
     "execution_count": 17,
     "metadata": {},
     "output_type": "execute_result"
    },
    {
     "data": {
      "image/png": "[encoded data removed]",
      "text/plain": [
       "<Figure size 432x288 with 1 Axes>"
      ]
     },
     "metadata": {
      "needs_background": "light"
     },
     "output_type": "display_data"
    }
   ],
   "source": [
    "data['winner'].value_counts().head().plot(kind='barh')"
   ]
  },
  {
   "cell_type": "code",
   "execution_count": 18,
   "id": "6b29a8bb",
   "metadata": {},
   "outputs": [
    {
     "data": {
      "text/plain": [
       "<AxesSubplot:ylabel='toss_decision'>"
      ]
     },
     "execution_count": 18,
     "metadata": {},
     "output_type": "execute_result"
    },
    {
     "data": {
      "image/png": "[encoded data removed]",
      "text/plain": [
       "<Figure size 432x288 with 1 Axes>"
      ]
     },
     "metadata": {},
     "output_type": "display_data"
    }
   ],
   "source": [
    "data['toss_decision'].value_counts().plot(kind='pie')"
   ]
  },
  {
   "cell_type": "code",
   "execution_count": 19,
   "id": "2326842c",
   "metadata": {},
   "outputs": [
    {
     "data": {
      "text/plain": [
       "<AxesSubplot:ylabel='Frequency'>"
      ]
     },
     "execution_count": 19,
     "metadata": {},
     "output_type": "execute_result"
    },
    {
     "data": {
      "image/png": "[encoded data removed]",
      "text/plain": [
       "<Figure size 432x288 with 1 Axes>"
      ]
     },
     "metadata": {
      "needs_background": "light"
     },
     "output_type": "display_data"
    }
   ],
   "source": [
    "data['win_by_runs'].plot(kind='hist')"
   ]
  },
  {
   "cell_type": "code",
   "execution_count": 20,
   "id": "1fb627fe",
   "metadata": {},
   "outputs": [
    {
     "data": {
      "text/plain": [
       "Chennai Super Kings            164\n",
       "Deccan Chargers                 75\n",
       "Delhi Capitals                  16\n",
       "Delhi Daredevils               161\n",
       "Gujarat Lions                   30\n",
       "Kings XI Punjab                176\n",
       "Kochi Tuskers Kerala            14\n",
       "Kolkata Knight Riders          178\n",
       "Mumbai Indians                 187\n",
       "Pune Warriors                   46\n",
       "Rajasthan Royals               147\n",
       "Rising Pune Supergiant          16\n",
       "Rising Pune Supergiants         14\n",
       "Royal Challengers Bangalore    180\n",
       "Sunrisers Hyderabad            108\n",
       "dtype: int64"
      ]
     },
     "execution_count": 20,
     "metadata": {},
     "output_type": "execute_result"
    }
   ],
   "source": [
    "data['team2'].value_counts() + data['team1'].value_counts().sort_values(ascending = False)"
   ]
  },
  {
   "cell_type": "code",
   "execution_count": 21,
   "id": "26366525",
   "metadata": {},
   "outputs": [
    {
     "data": {
      "text/html": [
       "<div>\n",
       "<style scoped>\n",
       "    .dataframe tbody tr th:only-of-type {\n",
       "        vertical-align: middle;\n",
       "    }\n",
       "\n",
       "    .dataframe tbody tr th {\n",
       "        vertical-align: top;\n",
       "    }\n",
       "\n",
       "    .dataframe thead th {\n",
       "        text-align: right;\n",
       "    }\n",
       "</style>\n",
       "<table border=\"1\" class=\"dataframe\">\n",
       "  <thead>\n",
       "    <tr style=\"text-align: right;\">\n",
       "      <th></th>\n",
       "      <th>id</th>\n",
       "      <th>season</th>\n",
       "      <th>city</th>\n",
       "      <th>date</th>\n",
       "      <th>team1</th>\n",
       "      <th>team2</th>\n",
       "      <th>toss_winner</th>\n",
       "      <th>toss_decision</th>\n",
       "      <th>result</th>\n",
       "      <th>dl_applied</th>\n",
       "      <th>winner</th>\n",
       "      <th>win_by_runs</th>\n",
       "      <th>win_by_wickets</th>\n",
       "      <th>player_of_match</th>\n",
       "      <th>venue</th>\n",
       "      <th>umpire1</th>\n",
       "      <th>umpire2</th>\n",
       "      <th>umpire3</th>\n",
       "    </tr>\n",
       "  </thead>\n",
       "  <tbody>\n",
       "    <tr>\n",
       "      <th>612</th>\n",
       "      <td>613</td>\n",
       "      <td>2016</td>\n",
       "      <td>Visakhapatnam</td>\n",
       "      <td>2016-05-08</td>\n",
       "      <td>Sunrisers Hyderabad</td>\n",
       "      <td>Mumbai Indians</td>\n",
       "      <td>Mumbai Indians</td>\n",
       "      <td>field</td>\n",
       "      <td>normal</td>\n",
       "      <td>0</td>\n",
       "      <td>Sunrisers Hyderabad</td>\n",
       "      <td>85</td>\n",
       "      <td>0</td>\n",
       "      <td>A Nehra</td>\n",
       "      <td>Dr. Y.S. Rajasekhara Reddy ACA-VDCA Cricket St...</td>\n",
       "      <td>S Ravi</td>\n",
       "      <td>C Shamshuddin</td>\n",
       "      <td>NaN</td>\n",
       "    </tr>\n",
       "    <tr>\n",
       "      <th>530</th>\n",
       "      <td>531</td>\n",
       "      <td>2015</td>\n",
       "      <td>Visakhapatnam</td>\n",
       "      <td>2015-04-18</td>\n",
       "      <td>Delhi Daredevils</td>\n",
       "      <td>Sunrisers Hyderabad</td>\n",
       "      <td>Delhi Daredevils</td>\n",
       "      <td>bat</td>\n",
       "      <td>normal</td>\n",
       "      <td>0</td>\n",
       "      <td>Delhi Daredevils</td>\n",
       "      <td>4</td>\n",
       "      <td>0</td>\n",
       "      <td>JP Duminy</td>\n",
       "      <td>Dr. Y.S. Rajasekhara Reddy ACA-VDCA Cricket St...</td>\n",
       "      <td>PG Pathak</td>\n",
       "      <td>S Ravi</td>\n",
       "      <td>NaN</td>\n",
       "    </tr>\n",
       "    <tr>\n",
       "      <th>628</th>\n",
       "      <td>629</td>\n",
       "      <td>2016</td>\n",
       "      <td>Visakhapatnam</td>\n",
       "      <td>2016-05-21</td>\n",
       "      <td>Kings XI Punjab</td>\n",
       "      <td>Rising Pune Supergiants</td>\n",
       "      <td>Kings XI Punjab</td>\n",
       "      <td>bat</td>\n",
       "      <td>normal</td>\n",
       "      <td>0</td>\n",
       "      <td>Rising Pune Supergiants</td>\n",
       "      <td>0</td>\n",
       "      <td>4</td>\n",
       "      <td>MS Dhoni</td>\n",
       "      <td>Dr. Y.S. Rajasekhara Reddy ACA-VDCA Cricket St...</td>\n",
       "      <td>HDPK Dharmasena</td>\n",
       "      <td>Nitin Menon</td>\n",
       "      <td>NaN</td>\n",
       "    </tr>\n",
       "    <tr>\n",
       "      <th>615</th>\n",
       "      <td>616</td>\n",
       "      <td>2016</td>\n",
       "      <td>Visakhapatnam</td>\n",
       "      <td>2016-05-10</td>\n",
       "      <td>Sunrisers Hyderabad</td>\n",
       "      <td>Rising Pune Supergiants</td>\n",
       "      <td>Sunrisers Hyderabad</td>\n",
       "      <td>bat</td>\n",
       "      <td>normal</td>\n",
       "      <td>0</td>\n",
       "      <td>Sunrisers Hyderabad</td>\n",
       "      <td>4</td>\n",
       "      <td>0</td>\n",
       "      <td>A Zampa</td>\n",
       "      <td>Dr. Y.S. Rajasekhara Reddy ACA-VDCA Cricket St...</td>\n",
       "      <td>CB Gaffaney</td>\n",
       "      <td>VK Sharma</td>\n",
       "      <td>NaN</td>\n",
       "    </tr>\n",
       "    <tr>\n",
       "      <th>754</th>\n",
       "      <td>11414</td>\n",
       "      <td>2019</td>\n",
       "      <td>Visakhapatnam</td>\n",
       "      <td>10/05/19</td>\n",
       "      <td>Delhi Capitals</td>\n",
       "      <td>Chennai Super Kings</td>\n",
       "      <td>Chennai Super Kings</td>\n",
       "      <td>field</td>\n",
       "      <td>normal</td>\n",
       "      <td>0</td>\n",
       "      <td>Chennai Super Kings</td>\n",
       "      <td>0</td>\n",
       "      <td>6</td>\n",
       "      <td>F du Plessis</td>\n",
       "      <td>ACA-VDCA Stadium</td>\n",
       "      <td>Sundaram Ravi</td>\n",
       "      <td>Bruce Oxenford</td>\n",
       "      <td>Chettithody Shamshuddin</td>\n",
       "    </tr>\n",
       "  </tbody>\n",
       "</table>\n",
       "</div>"
      ],
      "text/plain": [
       "        id  season           city        date                team1  \\\n",
       "612    613    2016  Visakhapatnam  2016-05-08  Sunrisers Hyderabad   \n",
       "530    531    2015  Visakhapatnam  2015-04-18     Delhi Daredevils   \n",
       "628    629    2016  Visakhapatnam  2016-05-21      Kings XI Punjab   \n",
       "615    616    2016  Visakhapatnam  2016-05-10  Sunrisers Hyderabad   \n",
       "754  11414    2019  Visakhapatnam    10/05/19       Delhi Capitals   \n",
       "\n",
       "                       team2          toss_winner toss_decision  result  \\\n",
       "612           Mumbai Indians       Mumbai Indians         field  normal   \n",
       "530      Sunrisers Hyderabad     Delhi Daredevils           bat  normal   \n",
       "628  Rising Pune Supergiants      Kings XI Punjab           bat  normal   \n",
       "615  Rising Pune Supergiants  Sunrisers Hyderabad           bat  normal   \n",
       "754      Chennai Super Kings  Chennai Super Kings         field  normal   \n",
       "\n",
       "     dl_applied                   winner  win_by_runs  win_by_wickets  \\\n",
       "612           0      Sunrisers Hyderabad           85               0   \n",
       "530           0         Delhi Daredevils            4               0   \n",
       "628           0  Rising Pune Supergiants            0               4   \n",
       "615           0      Sunrisers Hyderabad            4               0   \n",
       "754           0      Chennai Super Kings            0               6   \n",
       "\n",
       "    player_of_match                                              venue  \\\n",
       "612         A Nehra  Dr. Y.S. Rajasekhara Reddy ACA-VDCA Cricket St...   \n",
       "530       JP Duminy  Dr. Y.S. Rajasekhara Reddy ACA-VDCA Cricket St...   \n",
       "628        MS Dhoni  Dr. Y.S. Rajasekhara Reddy ACA-VDCA Cricket St...   \n",
       "615         A Zampa  Dr. Y.S. Rajasekhara Reddy ACA-VDCA Cricket St...   \n",
       "754    F du Plessis                                   ACA-VDCA Stadium   \n",
       "\n",
       "             umpire1         umpire2                  umpire3  \n",
       "612           S Ravi   C Shamshuddin                      NaN  \n",
       "530        PG Pathak          S Ravi                      NaN  \n",
       "628  HDPK Dharmasena     Nitin Menon                      NaN  \n",
       "615      CB Gaffaney       VK Sharma                      NaN  \n",
       "754    Sundaram Ravi  Bruce Oxenford  Chettithody Shamshuddin  "
      ]
     },
     "execution_count": 21,
     "metadata": {},
     "output_type": "execute_result"
    }
   ],
   "source": [
    "data.sort_values('city',ascending=False).head()"
   ]
  },
  {
   "cell_type": "code",
   "execution_count": 22,
   "id": "e451aaab",
   "metadata": {},
   "outputs": [
    {
     "data": {
      "text/html": [
       "<div>\n",
       "<style scoped>\n",
       "    .dataframe tbody tr th:only-of-type {\n",
       "        vertical-align: middle;\n",
       "    }\n",
       "\n",
       "    .dataframe tbody tr th {\n",
       "        vertical-align: top;\n",
       "    }\n",
       "\n",
       "    .dataframe thead th {\n",
       "        text-align: right;\n",
       "    }\n",
       "</style>\n",
       "<table border=\"1\" class=\"dataframe\">\n",
       "  <thead>\n",
       "    <tr style=\"text-align: right;\">\n",
       "      <th></th>\n",
       "      <th>id</th>\n",
       "      <th>season</th>\n",
       "      <th>city</th>\n",
       "      <th>date</th>\n",
       "      <th>team1</th>\n",
       "      <th>team2</th>\n",
       "      <th>toss_winner</th>\n",
       "      <th>toss_decision</th>\n",
       "      <th>result</th>\n",
       "      <th>dl_applied</th>\n",
       "      <th>winner</th>\n",
       "      <th>win_by_runs</th>\n",
       "      <th>win_by_wickets</th>\n",
       "      <th>player_of_match</th>\n",
       "      <th>venue</th>\n",
       "      <th>umpire1</th>\n",
       "      <th>umpire2</th>\n",
       "      <th>umpire3</th>\n",
       "    </tr>\n",
       "  </thead>\n",
       "  <tbody>\n",
       "    <tr>\n",
       "      <th>475</th>\n",
       "      <td>476</td>\n",
       "      <td>2014</td>\n",
       "      <td>Abu Dhabi</td>\n",
       "      <td>2014-04-29</td>\n",
       "      <td>Rajasthan Royals</td>\n",
       "      <td>Kolkata Knight Riders</td>\n",
       "      <td>Rajasthan Royals</td>\n",
       "      <td>bat</td>\n",
       "      <td>tie</td>\n",
       "      <td>0</td>\n",
       "      <td>Rajasthan Royals</td>\n",
       "      <td>0</td>\n",
       "      <td>0</td>\n",
       "      <td>JP Faulkner</td>\n",
       "      <td>Sheikh Zayed Stadium</td>\n",
       "      <td>Aleem Dar</td>\n",
       "      <td>AK Chaudhary</td>\n",
       "      <td>NaN</td>\n",
       "    </tr>\n",
       "    <tr>\n",
       "      <th>470</th>\n",
       "      <td>471</td>\n",
       "      <td>2014</td>\n",
       "      <td>Abu Dhabi</td>\n",
       "      <td>2014-04-26</td>\n",
       "      <td>Royal Challengers Bangalore</td>\n",
       "      <td>Rajasthan Royals</td>\n",
       "      <td>Rajasthan Royals</td>\n",
       "      <td>field</td>\n",
       "      <td>normal</td>\n",
       "      <td>0</td>\n",
       "      <td>Rajasthan Royals</td>\n",
       "      <td>0</td>\n",
       "      <td>6</td>\n",
       "      <td>PV Tambe</td>\n",
       "      <td>Sheikh Zayed Stadium</td>\n",
       "      <td>HDPK Dharmasena</td>\n",
       "      <td>C Shamshuddin</td>\n",
       "      <td>NaN</td>\n",
       "    </tr>\n",
       "    <tr>\n",
       "      <th>471</th>\n",
       "      <td>472</td>\n",
       "      <td>2014</td>\n",
       "      <td>Abu Dhabi</td>\n",
       "      <td>2014-04-26</td>\n",
       "      <td>Kings XI Punjab</td>\n",
       "      <td>Kolkata Knight Riders</td>\n",
       "      <td>Kolkata Knight Riders</td>\n",
       "      <td>field</td>\n",
       "      <td>normal</td>\n",
       "      <td>0</td>\n",
       "      <td>Kings XI Punjab</td>\n",
       "      <td>23</td>\n",
       "      <td>0</td>\n",
       "      <td>Sandeep Sharma</td>\n",
       "      <td>Sheikh Zayed Stadium</td>\n",
       "      <td>HDPK Dharmasena</td>\n",
       "      <td>RK Illingworth</td>\n",
       "      <td>NaN</td>\n",
       "    </tr>\n",
       "    <tr>\n",
       "      <th>464</th>\n",
       "      <td>465</td>\n",
       "      <td>2014</td>\n",
       "      <td>Abu Dhabi</td>\n",
       "      <td>2014-04-21</td>\n",
       "      <td>Chennai Super Kings</td>\n",
       "      <td>Delhi Daredevils</td>\n",
       "      <td>Chennai Super Kings</td>\n",
       "      <td>bat</td>\n",
       "      <td>normal</td>\n",
       "      <td>0</td>\n",
       "      <td>Chennai Super Kings</td>\n",
       "      <td>93</td>\n",
       "      <td>0</td>\n",
       "      <td>SK Raina</td>\n",
       "      <td>Sheikh Zayed Stadium</td>\n",
       "      <td>RK Illingworth</td>\n",
       "      <td>C Shamshuddin</td>\n",
       "      <td>NaN</td>\n",
       "    </tr>\n",
       "    <tr>\n",
       "      <th>459</th>\n",
       "      <td>460</td>\n",
       "      <td>2014</td>\n",
       "      <td>Abu Dhabi</td>\n",
       "      <td>2014-04-18</td>\n",
       "      <td>Chennai Super Kings</td>\n",
       "      <td>Kings XI Punjab</td>\n",
       "      <td>Chennai Super Kings</td>\n",
       "      <td>bat</td>\n",
       "      <td>normal</td>\n",
       "      <td>0</td>\n",
       "      <td>Kings XI Punjab</td>\n",
       "      <td>0</td>\n",
       "      <td>6</td>\n",
       "      <td>GJ Maxwell</td>\n",
       "      <td>Sheikh Zayed Stadium</td>\n",
       "      <td>RK Illingworth</td>\n",
       "      <td>C Shamshuddin</td>\n",
       "      <td>NaN</td>\n",
       "    </tr>\n",
       "  </tbody>\n",
       "</table>\n",
       "</div>"
      ],
      "text/plain": [
       "      id  season       city        date                        team1  \\\n",
       "475  476    2014  Abu Dhabi  2014-04-29             Rajasthan Royals   \n",
       "470  471    2014  Abu Dhabi  2014-04-26  Royal Challengers Bangalore   \n",
       "471  472    2014  Abu Dhabi  2014-04-26              Kings XI Punjab   \n",
       "464  465    2014  Abu Dhabi  2014-04-21          Chennai Super Kings   \n",
       "459  460    2014  Abu Dhabi  2014-04-18          Chennai Super Kings   \n",
       "\n",
       "                     team2            toss_winner toss_decision  result  \\\n",
       "475  Kolkata Knight Riders       Rajasthan Royals           bat     tie   \n",
       "470       Rajasthan Royals       Rajasthan Royals         field  normal   \n",
       "471  Kolkata Knight Riders  Kolkata Knight Riders         field  normal   \n",
       "464       Delhi Daredevils    Chennai Super Kings           bat  normal   \n",
       "459        Kings XI Punjab    Chennai Super Kings           bat  normal   \n",
       "\n",
       "     dl_applied               winner  win_by_runs  win_by_wickets  \\\n",
       "475           0     Rajasthan Royals            0               0   \n",
       "470           0     Rajasthan Royals            0               6   \n",
       "471           0      Kings XI Punjab           23               0   \n",
       "464           0  Chennai Super Kings           93               0   \n",
       "459           0      Kings XI Punjab            0               6   \n",
       "\n",
       "    player_of_match                 venue          umpire1         umpire2  \\\n",
       "475     JP Faulkner  Sheikh Zayed Stadium        Aleem Dar    AK Chaudhary   \n",
       "470        PV Tambe  Sheikh Zayed Stadium  HDPK Dharmasena   C Shamshuddin   \n",
       "471  Sandeep Sharma  Sheikh Zayed Stadium  HDPK Dharmasena  RK Illingworth   \n",
       "464        SK Raina  Sheikh Zayed Stadium   RK Illingworth   C Shamshuddin   \n",
       "459      GJ Maxwell  Sheikh Zayed Stadium   RK Illingworth   C Shamshuddin   \n",
       "\n",
       "    umpire3  \n",
       "475     NaN  \n",
       "470     NaN  \n",
       "471     NaN  \n",
       "464     NaN  \n",
       "459     NaN  "
      ]
     },
     "execution_count": 22,
     "metadata": {},
     "output_type": "execute_result"
    }
   ],
   "source": [
    "data.sort_values(['city','date'],ascending =[True,False]).head()"
   ]
  },
  {
   "cell_type": "code",
   "execution_count": 23,
   "id": "6397c8fd",
   "metadata": {},
   "outputs": [],
   "source": [
    "clone_data = data.copy()"
   ]
  },
  {
   "cell_type": "markdown",
   "id": "f6845296",
   "metadata": {},
   "source": [
    "### List of winners for each years  "
   ]
  },
  {
   "cell_type": "code",
   "execution_count": 24,
   "id": "49e24f9b",
   "metadata": {},
   "outputs": [],
   "source": [
    "clone_data.drop_duplicates('season', keep='last', inplace=True)"
   ]
  },
  {
   "cell_type": "code",
   "execution_count": 25,
   "id": "1339cc06",
   "metadata": {},
   "outputs": [
    {
     "data": {
      "text/html": [
       "<div>\n",
       "<style scoped>\n",
       "    .dataframe tbody tr th:only-of-type {\n",
       "        vertical-align: middle;\n",
       "    }\n",
       "\n",
       "    .dataframe tbody tr th {\n",
       "        vertical-align: top;\n",
       "    }\n",
       "\n",
       "    .dataframe thead th {\n",
       "        text-align: right;\n",
       "    }\n",
       "</style>\n",
       "<table border=\"1\" class=\"dataframe\">\n",
       "  <thead>\n",
       "    <tr style=\"text-align: right;\">\n",
       "      <th></th>\n",
       "      <th>season</th>\n",
       "      <th>winner</th>\n",
       "    </tr>\n",
       "  </thead>\n",
       "  <tbody>\n",
       "    <tr>\n",
       "      <th>116</th>\n",
       "      <td>2008</td>\n",
       "      <td>Rajasthan Royals</td>\n",
       "    </tr>\n",
       "    <tr>\n",
       "      <th>173</th>\n",
       "      <td>2009</td>\n",
       "      <td>Deccan Chargers</td>\n",
       "    </tr>\n",
       "    <tr>\n",
       "      <th>233</th>\n",
       "      <td>2010</td>\n",
       "      <td>Chennai Super Kings</td>\n",
       "    </tr>\n",
       "    <tr>\n",
       "      <th>306</th>\n",
       "      <td>2011</td>\n",
       "      <td>Chennai Super Kings</td>\n",
       "    </tr>\n",
       "    <tr>\n",
       "      <th>380</th>\n",
       "      <td>2012</td>\n",
       "      <td>Kolkata Knight Riders</td>\n",
       "    </tr>\n",
       "    <tr>\n",
       "      <th>456</th>\n",
       "      <td>2013</td>\n",
       "      <td>Mumbai Indians</td>\n",
       "    </tr>\n",
       "    <tr>\n",
       "      <th>516</th>\n",
       "      <td>2014</td>\n",
       "      <td>Kolkata Knight Riders</td>\n",
       "    </tr>\n",
       "    <tr>\n",
       "      <th>575</th>\n",
       "      <td>2015</td>\n",
       "      <td>Mumbai Indians</td>\n",
       "    </tr>\n",
       "    <tr>\n",
       "      <th>635</th>\n",
       "      <td>2016</td>\n",
       "      <td>Sunrisers Hyderabad</td>\n",
       "    </tr>\n",
       "    <tr>\n",
       "      <th>58</th>\n",
       "      <td>2017</td>\n",
       "      <td>Mumbai Indians</td>\n",
       "    </tr>\n",
       "    <tr>\n",
       "      <th>695</th>\n",
       "      <td>2018</td>\n",
       "      <td>Chennai Super Kings</td>\n",
       "    </tr>\n",
       "    <tr>\n",
       "      <th>755</th>\n",
       "      <td>2019</td>\n",
       "      <td>Mumbai Indians</td>\n",
       "    </tr>\n",
       "  </tbody>\n",
       "</table>\n",
       "</div>"
      ],
      "text/plain": [
       "     season                 winner\n",
       "116    2008       Rajasthan Royals\n",
       "173    2009        Deccan Chargers\n",
       "233    2010    Chennai Super Kings\n",
       "306    2011    Chennai Super Kings\n",
       "380    2012  Kolkata Knight Riders\n",
       "456    2013         Mumbai Indians\n",
       "516    2014  Kolkata Knight Riders\n",
       "575    2015         Mumbai Indians\n",
       "635    2016    Sunrisers Hyderabad\n",
       "58     2017         Mumbai Indians\n",
       "695    2018    Chennai Super Kings\n",
       "755    2019         Mumbai Indians"
      ]
     },
     "execution_count": 25,
     "metadata": {},
     "output_type": "execute_result"
    }
   ],
   "source": [
    "clone_data[['season','winner']].sort_values('season',ascending=True)"
   ]
  },
  {
   "cell_type": "markdown",
   "id": "628b7889",
   "metadata": {},
   "source": [
    "###  Count of each team won the trophy"
   ]
  },
  {
   "cell_type": "code",
   "execution_count": 26,
   "id": "60a85d28",
   "metadata": {},
   "outputs": [
    {
     "data": {
      "text/plain": [
       "Mumbai Indians           4\n",
       "Chennai Super Kings      3\n",
       "Kolkata Knight Riders    2\n",
       "Sunrisers Hyderabad      1\n",
       "Rajasthan Royals         1\n",
       "Deccan Chargers          1\n",
       "Name: winner, dtype: int64"
      ]
     },
     "execution_count": 26,
     "metadata": {},
     "output_type": "execute_result"
    }
   ],
   "source": [
    "clone_data['winner'].value_counts()"
   ]
  },
  {
   "cell_type": "markdown",
   "id": "a20f29e3",
   "metadata": {},
   "source": [
    "### How Many matches were played in every season?"
   ]
  },
  {
   "cell_type": "code",
   "execution_count": 27,
   "id": "95970590",
   "metadata": {},
   "outputs": [
    {
     "data": {
      "text/plain": [
       "2009    57\n",
       "2008    58\n",
       "2015    59\n",
       "2017    59\n",
       "2010    60\n",
       "2014    60\n",
       "2016    60\n",
       "2018    60\n",
       "2019    60\n",
       "2011    73\n",
       "2012    74\n",
       "2013    76\n",
       "Name: season, dtype: int64"
      ]
     },
     "execution_count": 27,
     "metadata": {},
     "output_type": "execute_result"
    }
   ],
   "source": [
    "data['season'].value_counts(ascending=True)"
   ]
  },
  {
   "cell_type": "markdown",
   "id": "5cdd233e",
   "metadata": {},
   "source": [
    "### Which Team Won IPL in 2019"
   ]
  },
  {
   "cell_type": "code",
   "execution_count": 28,
   "id": "0481377d",
   "metadata": {},
   "outputs": [],
   "source": [
    "winner_2019 = data[data['season'] == 2019]"
   ]
  },
  {
   "cell_type": "code",
   "execution_count": 29,
   "id": "825f3a57",
   "metadata": {},
   "outputs": [
    {
     "data": {
      "text/html": [
       "<div>\n",
       "<style scoped>\n",
       "    .dataframe tbody tr th:only-of-type {\n",
       "        vertical-align: middle;\n",
       "    }\n",
       "\n",
       "    .dataframe tbody tr th {\n",
       "        vertical-align: top;\n",
       "    }\n",
       "\n",
       "    .dataframe thead th {\n",
       "        text-align: right;\n",
       "    }\n",
       "</style>\n",
       "<table border=\"1\" class=\"dataframe\">\n",
       "  <thead>\n",
       "    <tr style=\"text-align: right;\">\n",
       "      <th></th>\n",
       "      <th>team1</th>\n",
       "      <th>team2</th>\n",
       "      <th>winner</th>\n",
       "    </tr>\n",
       "  </thead>\n",
       "  <tbody>\n",
       "    <tr>\n",
       "      <th>755</th>\n",
       "      <td>Mumbai Indians</td>\n",
       "      <td>Chennai Super Kings</td>\n",
       "      <td>Mumbai Indians</td>\n",
       "    </tr>\n",
       "  </tbody>\n",
       "</table>\n",
       "</div>"
      ],
      "text/plain": [
       "              team1                team2          winner\n",
       "755  Mumbai Indians  Chennai Super Kings  Mumbai Indians"
      ]
     },
     "execution_count": 29,
     "metadata": {},
     "output_type": "execute_result"
    }
   ],
   "source": [
    "winner_2019.drop_duplicates(subset=['season'],keep= 'last')[['team1','team2','winner']]"
   ]
  },
  {
   "cell_type": "code",
   "execution_count": 30,
   "id": "5b267a23",
   "metadata": {},
   "outputs": [
    {
     "data": {
      "text/html": [
       "<div>\n",
       "<style scoped>\n",
       "    .dataframe tbody tr th:only-of-type {\n",
       "        vertical-align: middle;\n",
       "    }\n",
       "\n",
       "    .dataframe tbody tr th {\n",
       "        vertical-align: top;\n",
       "    }\n",
       "\n",
       "    .dataframe thead th {\n",
       "        text-align: right;\n",
       "    }\n",
       "</style>\n",
       "<table border=\"1\" class=\"dataframe\">\n",
       "  <thead>\n",
       "    <tr style=\"text-align: right;\">\n",
       "      <th></th>\n",
       "      <th>id</th>\n",
       "      <th>season</th>\n",
       "      <th>city</th>\n",
       "      <th>date</th>\n",
       "      <th>team1</th>\n",
       "      <th>team2</th>\n",
       "      <th>toss_winner</th>\n",
       "      <th>toss_decision</th>\n",
       "      <th>result</th>\n",
       "      <th>dl_applied</th>\n",
       "      <th>winner</th>\n",
       "      <th>win_by_runs</th>\n",
       "      <th>win_by_wickets</th>\n",
       "      <th>player_of_match</th>\n",
       "      <th>venue</th>\n",
       "      <th>umpire1</th>\n",
       "      <th>umpire2</th>\n",
       "      <th>umpire3</th>\n",
       "    </tr>\n",
       "  </thead>\n",
       "  <tbody>\n",
       "    <tr>\n",
       "      <th>0</th>\n",
       "      <td>1</td>\n",
       "      <td>2017</td>\n",
       "      <td>Hyderabad</td>\n",
       "      <td>2017-04-05</td>\n",
       "      <td>Sunrisers Hyderabad</td>\n",
       "      <td>Royal Challengers Bangalore</td>\n",
       "      <td>Royal Challengers Bangalore</td>\n",
       "      <td>field</td>\n",
       "      <td>normal</td>\n",
       "      <td>0</td>\n",
       "      <td>Sunrisers Hyderabad</td>\n",
       "      <td>35</td>\n",
       "      <td>0</td>\n",
       "      <td>Yuvraj Singh</td>\n",
       "      <td>Rajiv Gandhi International Stadium, Uppal</td>\n",
       "      <td>AY Dandekar</td>\n",
       "      <td>NJ Llong</td>\n",
       "      <td>NaN</td>\n",
       "    </tr>\n",
       "    <tr>\n",
       "      <th>1</th>\n",
       "      <td>2</td>\n",
       "      <td>2017</td>\n",
       "      <td>Pune</td>\n",
       "      <td>2017-04-06</td>\n",
       "      <td>Mumbai Indians</td>\n",
       "      <td>Rising Pune Supergiant</td>\n",
       "      <td>Rising Pune Supergiant</td>\n",
       "      <td>field</td>\n",
       "      <td>normal</td>\n",
       "      <td>0</td>\n",
       "      <td>Rising Pune Supergiant</td>\n",
       "      <td>0</td>\n",
       "      <td>7</td>\n",
       "      <td>SPD Smith</td>\n",
       "      <td>Maharashtra Cricket Association Stadium</td>\n",
       "      <td>A Nand Kishore</td>\n",
       "      <td>S Ravi</td>\n",
       "      <td>NaN</td>\n",
       "    </tr>\n",
       "  </tbody>\n",
       "</table>\n",
       "</div>"
      ],
      "text/plain": [
       "   id  season       city        date                team1  \\\n",
       "0   1    2017  Hyderabad  2017-04-05  Sunrisers Hyderabad   \n",
       "1   2    2017       Pune  2017-04-06       Mumbai Indians   \n",
       "\n",
       "                         team2                  toss_winner toss_decision  \\\n",
       "0  Royal Challengers Bangalore  Royal Challengers Bangalore         field   \n",
       "1       Rising Pune Supergiant       Rising Pune Supergiant         field   \n",
       "\n",
       "   result  dl_applied                  winner  win_by_runs  win_by_wickets  \\\n",
       "0  normal           0     Sunrisers Hyderabad           35               0   \n",
       "1  normal           0  Rising Pune Supergiant            0               7   \n",
       "\n",
       "  player_of_match                                      venue         umpire1  \\\n",
       "0    Yuvraj Singh  Rajiv Gandhi International Stadium, Uppal     AY Dandekar   \n",
       "1       SPD Smith    Maharashtra Cricket Association Stadium  A Nand Kishore   \n",
       "\n",
       "    umpire2 umpire3  \n",
       "0  NJ Llong     NaN  \n",
       "1    S Ravi     NaN  "
      ]
     },
     "execution_count": 30,
     "metadata": {},
     "output_type": "execute_result"
    }
   ],
   "source": [
    "data.head(2)"
   ]
  },
  {
   "cell_type": "markdown",
   "id": "ed0761eb",
   "metadata": {},
   "source": [
    "### How much matches did mumbai indian win when they won the toss?"
   ]
  },
  {
   "cell_type": "code",
   "execution_count": 31,
   "id": "221e3d94",
   "metadata": {},
   "outputs": [],
   "source": [
    "mi_win_Toss_win = (data['toss_winner'] == 'Mumbai Indians') & (data['winner'] == 'Mumbai Indians')"
   ]
  },
  {
   "cell_type": "code",
   "execution_count": 32,
   "id": "39d5d747",
   "metadata": {},
   "outputs": [
    {
     "data": {
      "text/plain": [
       "56"
      ]
     },
     "execution_count": 32,
     "metadata": {},
     "output_type": "execute_result"
    }
   ],
   "source": [
    "data[mi_win_Toss_win].shape[0]"
   ]
  },
  {
   "cell_type": "markdown",
   "id": "30cda22e",
   "metadata": {},
   "source": [
    "### How much matches did mumbai indian win when they loss the toss?"
   ]
  },
  {
   "cell_type": "code",
   "execution_count": 33,
   "id": "221f8eb7",
   "metadata": {},
   "outputs": [],
   "source": [
    "mi_win_Toss_Lose = (data['toss_winner'] != 'Mumbai Indians') & (data['winner'] == 'Mumbai Indians')"
   ]
  },
  {
   "cell_type": "code",
   "execution_count": 34,
   "id": "a17b4aec",
   "metadata": {},
   "outputs": [
    {
     "data": {
      "text/plain": [
       "53"
      ]
     },
     "execution_count": 34,
     "metadata": {},
     "output_type": "execute_result"
    }
   ],
   "source": [
    "data[mi_win_Toss_Lose].shape[0]"
   ]
  },
  {
   "cell_type": "code",
   "execution_count": 35,
   "id": "f3b1903e",
   "metadata": {},
   "outputs": [],
   "source": [
    "total_match = data['team1'].value_counts() + data['team2'].value_counts()"
   ]
  },
  {
   "cell_type": "code",
   "execution_count": 36,
   "id": "494ac693",
   "metadata": {},
   "outputs": [
    {
     "data": {
      "text/plain": [
       "Chennai Super Kings            164\n",
       "Deccan Chargers                 75\n",
       "Delhi Capitals                  16\n",
       "Delhi Daredevils               161\n",
       "Gujarat Lions                   30\n",
       "Kings XI Punjab                176\n",
       "Kochi Tuskers Kerala            14\n",
       "Kolkata Knight Riders          178\n",
       "Mumbai Indians                 187\n",
       "Pune Warriors                   46\n",
       "Rajasthan Royals               147\n",
       "Rising Pune Supergiant          16\n",
       "Rising Pune Supergiants         14\n",
       "Royal Challengers Bangalore    180\n",
       "Sunrisers Hyderabad            108\n",
       "dtype: int64"
      ]
     },
     "execution_count": 36,
     "metadata": {},
     "output_type": "execute_result"
    }
   ],
   "source": [
    "total_match"
   ]
  },
  {
   "cell_type": "code",
   "execution_count": 37,
   "id": "c7e1fc29",
   "metadata": {},
   "outputs": [
    {
     "data": {
      "text/plain": [
       "(109, 18)"
      ]
     },
     "execution_count": 37,
     "metadata": {},
     "output_type": "execute_result"
    }
   ],
   "source": [
    "data[data['winner'] == 'Mumbai Indians'].shape"
   ]
  },
  {
   "cell_type": "code",
   "execution_count": 38,
   "id": "31b60b18",
   "metadata": {},
   "outputs": [
    {
     "data": {
      "text/plain": [
       "Mumbai Indians                 109\n",
       "Chennai Super Kings            100\n",
       "Kolkata Knight Riders           92\n",
       "Royal Challengers Bangalore     84\n",
       "Kings XI Punjab                 82\n",
       "Rajasthan Royals                75\n",
       "Delhi Daredevils                67\n",
       "Sunrisers Hyderabad             58\n",
       "Deccan Chargers                 29\n",
       "Gujarat Lions                   13\n",
       "Pune Warriors                   12\n",
       "Rising Pune Supergiant          10\n",
       "Delhi Capitals                  10\n",
       "Kochi Tuskers Kerala             6\n",
       "Rising Pune Supergiants          5\n",
       "Name: winner, dtype: int64"
      ]
     },
     "execution_count": 38,
     "metadata": {},
     "output_type": "execute_result"
    }
   ],
   "source": [
    "data['winner'].value_counts()"
   ]
  },
  {
   "cell_type": "markdown",
   "id": "05c47c29",
   "metadata": {},
   "source": [
    "### How much matches did mumbai indian win when they choose Batting First?"
   ]
  },
  {
   "cell_type": "code",
   "execution_count": 39,
   "id": "26fea8cf",
   "metadata": {},
   "outputs": [
    {
     "data": {
      "text/html": [
       "<div>\n",
       "<style scoped>\n",
       "    .dataframe tbody tr th:only-of-type {\n",
       "        vertical-align: middle;\n",
       "    }\n",
       "\n",
       "    .dataframe tbody tr th {\n",
       "        vertical-align: top;\n",
       "    }\n",
       "\n",
       "    .dataframe thead th {\n",
       "        text-align: right;\n",
       "    }\n",
       "</style>\n",
       "<table border=\"1\" class=\"dataframe\">\n",
       "  <thead>\n",
       "    <tr style=\"text-align: right;\">\n",
       "      <th></th>\n",
       "      <th>id</th>\n",
       "      <th>season</th>\n",
       "      <th>city</th>\n",
       "      <th>date</th>\n",
       "      <th>team1</th>\n",
       "      <th>team2</th>\n",
       "      <th>toss_winner</th>\n",
       "      <th>toss_decision</th>\n",
       "      <th>result</th>\n",
       "      <th>dl_applied</th>\n",
       "      <th>winner</th>\n",
       "      <th>win_by_runs</th>\n",
       "      <th>win_by_wickets</th>\n",
       "      <th>player_of_match</th>\n",
       "      <th>venue</th>\n",
       "      <th>umpire1</th>\n",
       "      <th>umpire2</th>\n",
       "      <th>umpire3</th>\n",
       "    </tr>\n",
       "  </thead>\n",
       "  <tbody>\n",
       "    <tr>\n",
       "      <th>0</th>\n",
       "      <td>1</td>\n",
       "      <td>2017</td>\n",
       "      <td>Hyderabad</td>\n",
       "      <td>2017-04-05</td>\n",
       "      <td>Sunrisers Hyderabad</td>\n",
       "      <td>Royal Challengers Bangalore</td>\n",
       "      <td>Royal Challengers Bangalore</td>\n",
       "      <td>field</td>\n",
       "      <td>normal</td>\n",
       "      <td>0</td>\n",
       "      <td>Sunrisers Hyderabad</td>\n",
       "      <td>35</td>\n",
       "      <td>0</td>\n",
       "      <td>Yuvraj Singh</td>\n",
       "      <td>Rajiv Gandhi International Stadium, Uppal</td>\n",
       "      <td>AY Dandekar</td>\n",
       "      <td>NJ Llong</td>\n",
       "      <td>NaN</td>\n",
       "    </tr>\n",
       "  </tbody>\n",
       "</table>\n",
       "</div>"
      ],
      "text/plain": [
       "   id  season       city        date                team1  \\\n",
       "0   1    2017  Hyderabad  2017-04-05  Sunrisers Hyderabad   \n",
       "\n",
       "                         team2                  toss_winner toss_decision  \\\n",
       "0  Royal Challengers Bangalore  Royal Challengers Bangalore         field   \n",
       "\n",
       "   result  dl_applied               winner  win_by_runs  win_by_wickets  \\\n",
       "0  normal           0  Sunrisers Hyderabad           35               0   \n",
       "\n",
       "  player_of_match                                      venue      umpire1  \\\n",
       "0    Yuvraj Singh  Rajiv Gandhi International Stadium, Uppal  AY Dandekar   \n",
       "\n",
       "    umpire2 umpire3  \n",
       "0  NJ Llong     NaN  "
      ]
     },
     "execution_count": 39,
     "metadata": {},
     "output_type": "execute_result"
    }
   ],
   "source": [
    "data.head(1)"
   ]
  },
  {
   "cell_type": "code",
   "execution_count": 40,
   "id": "725580e8",
   "metadata": {},
   "outputs": [],
   "source": [
    "first_batting = (data['winner'] == 'Mumbai Indians') & (data['toss_decision'] == 'bat')"
   ]
  },
  {
   "cell_type": "code",
   "execution_count": 41,
   "id": "cc8515f7",
   "metadata": {},
   "outputs": [],
   "source": [
    "win_matches_bat_first = data[first_batting].shape[0]"
   ]
  },
  {
   "cell_type": "code",
   "execution_count": 42,
   "id": "99d06e47",
   "metadata": {},
   "outputs": [
    {
     "data": {
      "text/plain": [
       "45"
      ]
     },
     "execution_count": 42,
     "metadata": {},
     "output_type": "execute_result"
    }
   ],
   "source": [
    "win_matches_bat_first"
   ]
  },
  {
   "cell_type": "markdown",
   "id": "4a9ca31f",
   "metadata": {},
   "source": [
    "### Winning % of Mumbai indian won the matches While Bat first  "
   ]
  },
  {
   "cell_type": "code",
   "execution_count": 43,
   "id": "7ad232cc",
   "metadata": {},
   "outputs": [],
   "source": [
    "total_match_mi = data[data['team1'] == 'Mumbai Indians'].shape[0] + data[data['team2'] == 'Mumbai Indians'].shape[0]"
   ]
  },
  {
   "cell_type": "code",
   "execution_count": 44,
   "id": "20f44adb",
   "metadata": {},
   "outputs": [],
   "source": [
    "percentage_win_bat_first = win_matches_bat_first * 100 /total_match_mi"
   ]
  },
  {
   "cell_type": "code",
   "execution_count": 45,
   "id": "8e8967a8",
   "metadata": {},
   "outputs": [
    {
     "data": {
      "text/plain": [
       "24.06417112299465"
      ]
     },
     "execution_count": 45,
     "metadata": {},
     "output_type": "execute_result"
    }
   ],
   "source": [
    "percentage_win_bat_first"
   ]
  },
  {
   "cell_type": "markdown",
   "id": "5624f131",
   "metadata": {},
   "source": [
    "### How much matches did mumbai indian win when they choose Field First?"
   ]
  },
  {
   "cell_type": "code",
   "execution_count": 46,
   "id": "e5371aaf",
   "metadata": {},
   "outputs": [],
   "source": [
    "fieldfirst = (data['winner'] == 'Mumbai Indians') & (data['toss_decision'] == 'field')"
   ]
  },
  {
   "cell_type": "code",
   "execution_count": 47,
   "id": "33a59719",
   "metadata": {},
   "outputs": [],
   "source": [
    "win_matches_field_first = data[fieldfirst].shape[0]"
   ]
  },
  {
   "cell_type": "code",
   "execution_count": 48,
   "id": "b385f2c5",
   "metadata": {},
   "outputs": [
    {
     "data": {
      "text/plain": [
       "64"
      ]
     },
     "execution_count": 48,
     "metadata": {},
     "output_type": "execute_result"
    }
   ],
   "source": [
    "win_matches_field_first"
   ]
  },
  {
   "cell_type": "markdown",
   "id": "18c719fc",
   "metadata": {},
   "source": [
    "### Winning % of Mumbai indian won the matches While Bat first"
   ]
  },
  {
   "cell_type": "code",
   "execution_count": 49,
   "id": "ff7a0e02",
   "metadata": {},
   "outputs": [],
   "source": [
    "\n",
    "percentage_win_field_first = win_matches_field_first * 100 /total_match_mi"
   ]
  },
  {
   "cell_type": "code",
   "execution_count": 50,
   "id": "385fae87",
   "metadata": {},
   "outputs": [
    {
     "data": {
      "text/plain": [
       "34.224598930481285"
      ]
     },
     "execution_count": 50,
     "metadata": {},
     "output_type": "execute_result"
    }
   ],
   "source": [
    "percentage_win_field_first"
   ]
  },
  {
   "cell_type": "markdown",
   "id": "c89028a7",
   "metadata": {},
   "source": [
    "\n",
    "\n",
    "\n",
    "\n",
    "### Total Matches Won By Mumbai Indian"
   ]
  },
  {
   "cell_type": "code",
   "execution_count": 51,
   "id": "7caa3ac8",
   "metadata": {},
   "outputs": [],
   "source": [
    "total_match_won_by_mi = data[data['winner'] == 'Mumbai Indians'].shape[0]"
   ]
  },
  {
   "cell_type": "code",
   "execution_count": 52,
   "id": "24461565",
   "metadata": {},
   "outputs": [
    {
     "data": {
      "text/plain": [
       "109"
      ]
     },
     "execution_count": 52,
     "metadata": {},
     "output_type": "execute_result"
    }
   ],
   "source": [
    "total_match_won_by_mi"
   ]
  },
  {
   "cell_type": "code",
   "execution_count": 53,
   "id": "ad348520",
   "metadata": {},
   "outputs": [],
   "source": [
    "group_data = data.groupby('winner')"
   ]
  },
  {
   "cell_type": "code",
   "execution_count": 54,
   "id": "2ff6ccca",
   "metadata": {},
   "outputs": [
    {
     "data": {
      "text/plain": [
       "109"
      ]
     },
     "execution_count": 54,
     "metadata": {},
     "output_type": "execute_result"
    }
   ],
   "source": [
    "group_data.get_group('Mumbai Indians').shape[0]"
   ]
  },
  {
   "cell_type": "markdown",
   "id": "28387409",
   "metadata": {},
   "source": [
    "### Win % of Mumbai Indian"
   ]
  },
  {
   "cell_type": "code",
   "execution_count": 55,
   "id": "10c2776f",
   "metadata": {},
   "outputs": [],
   "source": [
    "percentage_win = total_match_won_by_mi * 100 / total_match_mi"
   ]
  },
  {
   "cell_type": "code",
   "execution_count": 56,
   "id": "cced5f32",
   "metadata": {},
   "outputs": [
    {
     "data": {
      "text/plain": [
       "58.288770053475936"
      ]
     },
     "execution_count": 56,
     "metadata": {},
     "output_type": "execute_result"
    }
   ],
   "source": [
    "percentage_win"
   ]
  },
  {
   "cell_type": "markdown",
   "id": "6ae4d67f",
   "metadata": {},
   "source": [
    "### Loss % of Mumbai Indian"
   ]
  },
  {
   "cell_type": "code",
   "execution_count": 57,
   "id": "8dcab6b9",
   "metadata": {},
   "outputs": [],
   "source": [
    "percentage_Loss = (total_match_mi - total_match_won_by_mi) * 100 / total_match_mi"
   ]
  },
  {
   "cell_type": "code",
   "execution_count": 58,
   "id": "5cb1c63b",
   "metadata": {},
   "outputs": [
    {
     "data": {
      "text/plain": [
       "41.711229946524064"
      ]
     },
     "execution_count": 58,
     "metadata": {},
     "output_type": "execute_result"
    }
   ],
   "source": [
    "percentage_Loss"
   ]
  },
  {
   "cell_type": "markdown",
   "id": "35fd42ab",
   "metadata": {},
   "source": [
    "### How Many Matches Played Mumbai Indian in 2017"
   ]
  },
  {
   "cell_type": "code",
   "execution_count": 59,
   "id": "ea3454c6",
   "metadata": {},
   "outputs": [],
   "source": [
    "season_data = data.groupby('season').get_group(2017)"
   ]
  },
  {
   "cell_type": "code",
   "execution_count": 60,
   "id": "651be94e",
   "metadata": {},
   "outputs": [],
   "source": [
    "matches_played_2017 = season_data[season_data['team1'] == 'Mumbai Indians'].shape[0] + season_data[season_data['team2'] == 'Mumbai Indians'].shape[0]"
   ]
  },
  {
   "cell_type": "code",
   "execution_count": 61,
   "id": "800c6c1f",
   "metadata": {},
   "outputs": [
    {
     "data": {
      "text/plain": [
       "17"
      ]
     },
     "execution_count": 61,
     "metadata": {},
     "output_type": "execute_result"
    }
   ],
   "source": [
    "matches_played_2017"
   ]
  },
  {
   "cell_type": "code",
   "execution_count": 62,
   "id": "3578ca07",
   "metadata": {},
   "outputs": [],
   "source": [
    "winner_data_2017 = season_data.groupby('winner').get_group('Mumbai Indians').shape[0]"
   ]
  },
  {
   "cell_type": "code",
   "execution_count": 63,
   "id": "142b3aa1",
   "metadata": {},
   "outputs": [
    {
     "data": {
      "text/plain": [
       "12"
      ]
     },
     "execution_count": 63,
     "metadata": {},
     "output_type": "execute_result"
    }
   ],
   "source": [
    "winner_data_2017"
   ]
  },
  {
   "cell_type": "code",
   "execution_count": 64,
   "id": "cc7da248",
   "metadata": {},
   "outputs": [],
   "source": [
    "win_perctage_in_2017 = winner_data_2017 *100 / matches_played_2017"
   ]
  },
  {
   "cell_type": "code",
   "execution_count": 65,
   "id": "aa074e4a",
   "metadata": {},
   "outputs": [
    {
     "data": {
      "text/plain": [
       "70.58823529411765"
      ]
     },
     "execution_count": 65,
     "metadata": {},
     "output_type": "execute_result"
    }
   ],
   "source": [
    "win_perctage_in_2017"
   ]
  },
  {
   "cell_type": "markdown",
   "id": "dd78bb7f",
   "metadata": {},
   "source": [
    "### Most Man Of The Match In IPL"
   ]
  },
  {
   "cell_type": "code",
   "execution_count": 66,
   "id": "7bb6bfcf",
   "metadata": {},
   "outputs": [
    {
     "data": {
      "text/html": [
       "<div>\n",
       "<style scoped>\n",
       "    .dataframe tbody tr th:only-of-type {\n",
       "        vertical-align: middle;\n",
       "    }\n",
       "\n",
       "    .dataframe tbody tr th {\n",
       "        vertical-align: top;\n",
       "    }\n",
       "\n",
       "    .dataframe thead th {\n",
       "        text-align: right;\n",
       "    }\n",
       "</style>\n",
       "<table border=\"1\" class=\"dataframe\">\n",
       "  <thead>\n",
       "    <tr style=\"text-align: right;\">\n",
       "      <th></th>\n",
       "      <th>id</th>\n",
       "      <th>season</th>\n",
       "      <th>city</th>\n",
       "      <th>date</th>\n",
       "      <th>team1</th>\n",
       "      <th>team2</th>\n",
       "      <th>toss_winner</th>\n",
       "      <th>toss_decision</th>\n",
       "      <th>result</th>\n",
       "      <th>dl_applied</th>\n",
       "      <th>winner</th>\n",
       "      <th>win_by_runs</th>\n",
       "      <th>win_by_wickets</th>\n",
       "      <th>player_of_match</th>\n",
       "      <th>venue</th>\n",
       "      <th>umpire1</th>\n",
       "      <th>umpire2</th>\n",
       "      <th>umpire3</th>\n",
       "    </tr>\n",
       "  </thead>\n",
       "  <tbody>\n",
       "    <tr>\n",
       "      <th>0</th>\n",
       "      <td>1</td>\n",
       "      <td>2017</td>\n",
       "      <td>Hyderabad</td>\n",
       "      <td>2017-04-05</td>\n",
       "      <td>Sunrisers Hyderabad</td>\n",
       "      <td>Royal Challengers Bangalore</td>\n",
       "      <td>Royal Challengers Bangalore</td>\n",
       "      <td>field</td>\n",
       "      <td>normal</td>\n",
       "      <td>0</td>\n",
       "      <td>Sunrisers Hyderabad</td>\n",
       "      <td>35</td>\n",
       "      <td>0</td>\n",
       "      <td>Yuvraj Singh</td>\n",
       "      <td>Rajiv Gandhi International Stadium, Uppal</td>\n",
       "      <td>AY Dandekar</td>\n",
       "      <td>NJ Llong</td>\n",
       "      <td>NaN</td>\n",
       "    </tr>\n",
       "  </tbody>\n",
       "</table>\n",
       "</div>"
      ],
      "text/plain": [
       "   id  season       city        date                team1  \\\n",
       "0   1    2017  Hyderabad  2017-04-05  Sunrisers Hyderabad   \n",
       "\n",
       "                         team2                  toss_winner toss_decision  \\\n",
       "0  Royal Challengers Bangalore  Royal Challengers Bangalore         field   \n",
       "\n",
       "   result  dl_applied               winner  win_by_runs  win_by_wickets  \\\n",
       "0  normal           0  Sunrisers Hyderabad           35               0   \n",
       "\n",
       "  player_of_match                                      venue      umpire1  \\\n",
       "0    Yuvraj Singh  Rajiv Gandhi International Stadium, Uppal  AY Dandekar   \n",
       "\n",
       "    umpire2 umpire3  \n",
       "0  NJ Llong     NaN  "
      ]
     },
     "execution_count": 66,
     "metadata": {},
     "output_type": "execute_result"
    }
   ],
   "source": [
    "data.head(1)"
   ]
  },
  {
   "cell_type": "code",
   "execution_count": 67,
   "id": "44ab6ade",
   "metadata": {},
   "outputs": [
    {
     "data": {
      "text/plain": [
       "CH Gayle          21\n",
       "AB de Villiers    20\n",
       "RG Sharma         17\n",
       "MS Dhoni          17\n",
       "DA Warner         17\n",
       "Name: player_of_match, dtype: int64"
      ]
     },
     "execution_count": 67,
     "metadata": {},
     "output_type": "execute_result"
    }
   ],
   "source": [
    "data['player_of_match'].value_counts(ascending = False).head(5)"
   ]
  },
  {
   "cell_type": "markdown",
   "id": "e0e37ef1",
   "metadata": {},
   "source": [
    "### Most Man of the Mathch in ipl 2017 Season"
   ]
  },
  {
   "cell_type": "code",
   "execution_count": 68,
   "id": "3dd6ac75",
   "metadata": {},
   "outputs": [
    {
     "data": {
      "text/plain": [
       "BA Stokes          3\n",
       "NM Coulter-Nile    3\n",
       "JD Unadkat         2\n",
       "N Rana             2\n",
       "SP Narine          2\n",
       "Name: player_of_match, dtype: int64"
      ]
     },
     "execution_count": 68,
     "metadata": {},
     "output_type": "execute_result"
    }
   ],
   "source": [
    "season_data.player_of_match.value_counts().head()"
   ]
  },
  {
   "cell_type": "markdown",
   "id": "d0198e8c",
   "metadata": {},
   "source": [
    "### LIST OF MAN OF THE MATCH IN FINAL MATCH"
   ]
  },
  {
   "cell_type": "code",
   "execution_count": 69,
   "id": "374a2492",
   "metadata": {},
   "outputs": [],
   "source": [
    "seasonal_data = data.groupby('season').tail(1)"
   ]
  },
  {
   "cell_type": "code",
   "execution_count": 70,
   "id": "726b189b",
   "metadata": {},
   "outputs": [],
   "source": [
    "seasonal_data.set_index('season',inplace=True)"
   ]
  },
  {
   "cell_type": "code",
   "execution_count": 71,
   "id": "6a87004f",
   "metadata": {},
   "outputs": [
    {
     "data": {
      "text/plain": [
       "season\n",
       "2017      KH Pandya\n",
       "2008      YK Pathan\n",
       "2009       A Kumble\n",
       "2010       SK Raina\n",
       "2011        M Vijay\n",
       "2012       MS Bisla\n",
       "2013     KA Pollard\n",
       "2014      MK Pandey\n",
       "2015      RG Sharma\n",
       "2016    BCJ Cutting\n",
       "2018      SR Watson\n",
       "2019      JJ Bumrah\n",
       "Name: player_of_match, dtype: object"
      ]
     },
     "execution_count": 71,
     "metadata": {},
     "output_type": "execute_result"
    }
   ],
   "source": [
    "seasonal_data.player_of_match"
   ]
  },
  {
   "cell_type": "code",
   "execution_count": 72,
   "id": "e079d4a5",
   "metadata": {},
   "outputs": [
    {
     "data": {
      "text/html": [
       "<div>\n",
       "<style scoped>\n",
       "    .dataframe tbody tr th:only-of-type {\n",
       "        vertical-align: middle;\n",
       "    }\n",
       "\n",
       "    .dataframe tbody tr th {\n",
       "        vertical-align: top;\n",
       "    }\n",
       "\n",
       "    .dataframe thead th {\n",
       "        text-align: right;\n",
       "    }\n",
       "</style>\n",
       "<table border=\"1\" class=\"dataframe\">\n",
       "  <thead>\n",
       "    <tr style=\"text-align: right;\">\n",
       "      <th></th>\n",
       "      <th>id</th>\n",
       "      <th>season</th>\n",
       "      <th>city</th>\n",
       "      <th>date</th>\n",
       "      <th>team1</th>\n",
       "      <th>team2</th>\n",
       "      <th>toss_winner</th>\n",
       "      <th>toss_decision</th>\n",
       "      <th>result</th>\n",
       "      <th>dl_applied</th>\n",
       "      <th>winner</th>\n",
       "      <th>win_by_runs</th>\n",
       "      <th>win_by_wickets</th>\n",
       "      <th>player_of_match</th>\n",
       "      <th>venue</th>\n",
       "      <th>umpire1</th>\n",
       "      <th>umpire2</th>\n",
       "      <th>umpire3</th>\n",
       "    </tr>\n",
       "  </thead>\n",
       "  <tbody>\n",
       "    <tr>\n",
       "      <th>0</th>\n",
       "      <td>1</td>\n",
       "      <td>2017</td>\n",
       "      <td>Hyderabad</td>\n",
       "      <td>2017-04-05</td>\n",
       "      <td>Sunrisers Hyderabad</td>\n",
       "      <td>Royal Challengers Bangalore</td>\n",
       "      <td>Royal Challengers Bangalore</td>\n",
       "      <td>field</td>\n",
       "      <td>normal</td>\n",
       "      <td>0</td>\n",
       "      <td>Sunrisers Hyderabad</td>\n",
       "      <td>35</td>\n",
       "      <td>0</td>\n",
       "      <td>Yuvraj Singh</td>\n",
       "      <td>Rajiv Gandhi International Stadium, Uppal</td>\n",
       "      <td>AY Dandekar</td>\n",
       "      <td>NJ Llong</td>\n",
       "      <td>NaN</td>\n",
       "    </tr>\n",
       "  </tbody>\n",
       "</table>\n",
       "</div>"
      ],
      "text/plain": [
       "   id  season       city        date                team1  \\\n",
       "0   1    2017  Hyderabad  2017-04-05  Sunrisers Hyderabad   \n",
       "\n",
       "                         team2                  toss_winner toss_decision  \\\n",
       "0  Royal Challengers Bangalore  Royal Challengers Bangalore         field   \n",
       "\n",
       "   result  dl_applied               winner  win_by_runs  win_by_wickets  \\\n",
       "0  normal           0  Sunrisers Hyderabad           35               0   \n",
       "\n",
       "  player_of_match                                      venue      umpire1  \\\n",
       "0    Yuvraj Singh  Rajiv Gandhi International Stadium, Uppal  AY Dandekar   \n",
       "\n",
       "    umpire2 umpire3  \n",
       "0  NJ Llong     NaN  "
      ]
     },
     "execution_count": 72,
     "metadata": {},
     "output_type": "execute_result"
    }
   ],
   "source": [
    "data.head(1)"
   ]
  },
  {
   "cell_type": "markdown",
   "id": "9f2defe8",
   "metadata": {},
   "source": [
    "### Total No Of Matches held on different Venue"
   ]
  },
  {
   "cell_type": "code",
   "execution_count": 73,
   "id": "ca37d94c",
   "metadata": {},
   "outputs": [
    {
     "data": {
      "text/plain": [
       "<AxesSubplot:>"
      ]
     },
     "execution_count": 73,
     "metadata": {},
     "output_type": "execute_result"
    },
    {
     "data": {
      "image/png": "[encoded data removed]",
      "text/plain": [
       "<Figure size 432x288 with 1 Axes>"
      ]
     },
     "metadata": {
      "needs_background": "light"
     },
     "output_type": "display_data"
    }
   ],
   "source": [
    "data['venue'].value_counts().head(4).plot(kind='bar')"
   ]
  },
  {
   "cell_type": "markdown",
   "id": "ce341631",
   "metadata": {},
   "source": [
    "### Which venue Mumbai Indian Won Most Matches?"
   ]
  },
  {
   "cell_type": "code",
   "execution_count": 74,
   "id": "44c15036",
   "metadata": {},
   "outputs": [],
   "source": [
    "Stadium_details = data.groupby('winner').get_group('Mumbai Indians')"
   ]
  },
  {
   "cell_type": "code",
   "execution_count": 75,
   "id": "7ea3f5f8",
   "metadata": {},
   "outputs": [
    {
     "data": {
      "text/plain": [
       "<AxesSubplot:ylabel='venue'>"
      ]
     },
     "execution_count": 75,
     "metadata": {},
     "output_type": "execute_result"
    },
    {
     "data": {
      "image/png": "[encoded data removed]",
      "text/plain": [
       "<Figure size 432x288 with 1 Axes>"
      ]
     },
     "metadata": {},
     "output_type": "display_data"
    }
   ],
   "source": [
    "Stadium_details.venue.value_counts().head(5).plot(kind='pie')"
   ]
  },
  {
   "cell_type": "markdown",
   "id": "5db47ffc",
   "metadata": {},
   "source": [
    "### Toss Decision Percentage Each Season"
   ]
  },
  {
   "cell_type": "code",
   "execution_count": 76,
   "id": "c9c25881",
   "metadata": {},
   "outputs": [],
   "source": [
    "total_matches_played_in_every_season = data.groupby('season')['id'].count()"
   ]
  },
  {
   "cell_type": "code",
   "execution_count": 77,
   "id": "11be09b4",
   "metadata": {},
   "outputs": [],
   "source": [
    "toss_decision_percentage = data.groupby('season')['toss_decision'].value_counts()/total_matches_played_in_every_season *  100"
   ]
  },
  {
   "cell_type": "code",
   "execution_count": 78,
   "id": "50b6ed6c",
   "metadata": {},
   "outputs": [
    {
     "data": {
      "text/plain": [
       "season  toss_decision\n",
       "2008    field            55.172414\n",
       "        bat              44.827586\n",
       "2009    bat              61.403509\n",
       "        field            38.596491\n",
       "2010    bat              65.000000\n",
       "        field            35.000000\n",
       "2011    field            65.753425\n",
       "        bat              34.246575\n",
       "2012    bat              50.000000\n",
       "        field            50.000000\n",
       "2013    bat              59.210526\n",
       "        field            40.789474\n",
       "2014    field            68.333333\n",
       "        bat              31.666667\n",
       "2015    field            57.627119\n",
       "        bat              42.372881\n",
       "2016    field            81.666667\n",
       "        bat              18.333333\n",
       "2017    field            81.355932\n",
       "        bat              18.644068\n",
       "2018    field            83.333333\n",
       "        bat              16.666667\n",
       "2019    field            83.333333\n",
       "        bat              16.666667\n",
       "dtype: float64"
      ]
     },
     "execution_count": 78,
     "metadata": {},
     "output_type": "execute_result"
    }
   ],
   "source": [
    "toss_decision_percentage"
   ]
  },
  {
   "cell_type": "markdown",
   "id": "f6877087",
   "metadata": {},
   "source": [
    "### Which team won the match with height run?"
   ]
  },
  {
   "cell_type": "code",
   "execution_count": 79,
   "id": "f7b69da0",
   "metadata": {},
   "outputs": [],
   "source": [
    "winners_max_run = data.groupby(['winner','season']).win_by_runs.max().sort_values(ascending=False).reset_index()"
   ]
  },
  {
   "cell_type": "code",
   "execution_count": 80,
   "id": "f92f6f8c",
   "metadata": {},
   "outputs": [
    {
     "data": {
      "text/html": [
       "<div>\n",
       "<style scoped>\n",
       "    .dataframe tbody tr th:only-of-type {\n",
       "        vertical-align: middle;\n",
       "    }\n",
       "\n",
       "    .dataframe tbody tr th {\n",
       "        vertical-align: top;\n",
       "    }\n",
       "\n",
       "    .dataframe thead th {\n",
       "        text-align: right;\n",
       "    }\n",
       "</style>\n",
       "<table border=\"1\" class=\"dataframe\">\n",
       "  <thead>\n",
       "    <tr style=\"text-align: right;\">\n",
       "      <th></th>\n",
       "      <th>winner</th>\n",
       "      <th>season</th>\n",
       "      <th>win_by_runs</th>\n",
       "    </tr>\n",
       "  </thead>\n",
       "  <tbody>\n",
       "    <tr>\n",
       "      <th>0</th>\n",
       "      <td>Mumbai Indians</td>\n",
       "      <td>2017</td>\n",
       "      <td>146</td>\n",
       "    </tr>\n",
       "    <tr>\n",
       "      <th>1</th>\n",
       "      <td>Royal Challengers Bangalore</td>\n",
       "      <td>2016</td>\n",
       "      <td>144</td>\n",
       "    </tr>\n",
       "    <tr>\n",
       "      <th>2</th>\n",
       "      <td>Kolkata Knight Riders</td>\n",
       "      <td>2008</td>\n",
       "      <td>140</td>\n",
       "    </tr>\n",
       "    <tr>\n",
       "      <th>3</th>\n",
       "      <td>Royal Challengers Bangalore</td>\n",
       "      <td>2015</td>\n",
       "      <td>138</td>\n",
       "    </tr>\n",
       "    <tr>\n",
       "      <th>4</th>\n",
       "      <td>Royal Challengers Bangalore</td>\n",
       "      <td>2013</td>\n",
       "      <td>130</td>\n",
       "    </tr>\n",
       "  </tbody>\n",
       "</table>\n",
       "</div>"
      ],
      "text/plain": [
       "                        winner  season  win_by_runs\n",
       "0               Mumbai Indians    2017          146\n",
       "1  Royal Challengers Bangalore    2016          144\n",
       "2        Kolkata Knight Riders    2008          140\n",
       "3  Royal Challengers Bangalore    2015          138\n",
       "4  Royal Challengers Bangalore    2013          130"
      ]
     },
     "execution_count": 80,
     "metadata": {},
     "output_type": "execute_result"
    }
   ],
   "source": [
    "winners_max_run.head()"
   ]
  },
  {
   "cell_type": "markdown",
   "id": "b701d766",
   "metadata": {},
   "source": [
    "### Which team won the match with height wicket?"
   ]
  },
  {
   "cell_type": "code",
   "execution_count": 81,
   "id": "8c703000",
   "metadata": {},
   "outputs": [],
   "source": [
    "winners_max_wicket = data.groupby(['winner','season']).win_by_wickets.max().sort_values(ascending=False).reset_index()"
   ]
  },
  {
   "cell_type": "code",
   "execution_count": 82,
   "id": "57b41d9e",
   "metadata": {},
   "outputs": [
    {
     "data": {
      "text/html": [
       "<div>\n",
       "<style scoped>\n",
       "    .dataframe tbody tr th:only-of-type {\n",
       "        vertical-align: middle;\n",
       "    }\n",
       "\n",
       "    .dataframe tbody tr th {\n",
       "        vertical-align: top;\n",
       "    }\n",
       "\n",
       "    .dataframe thead th {\n",
       "        text-align: right;\n",
       "    }\n",
       "</style>\n",
       "<table border=\"1\" class=\"dataframe\">\n",
       "  <thead>\n",
       "    <tr style=\"text-align: right;\">\n",
       "      <th></th>\n",
       "      <th>winner</th>\n",
       "      <th>season</th>\n",
       "      <th>win_by_wickets</th>\n",
       "    </tr>\n",
       "  </thead>\n",
       "  <tbody>\n",
       "    <tr>\n",
       "      <th>0</th>\n",
       "      <td>Kolkata Knight Riders</td>\n",
       "      <td>2017</td>\n",
       "      <td>10</td>\n",
       "    </tr>\n",
       "    <tr>\n",
       "      <th>1</th>\n",
       "      <td>Royal Challengers Bangalore</td>\n",
       "      <td>2015</td>\n",
       "      <td>10</td>\n",
       "    </tr>\n",
       "    <tr>\n",
       "      <th>2</th>\n",
       "      <td>Delhi Daredevils</td>\n",
       "      <td>2009</td>\n",
       "      <td>10</td>\n",
       "    </tr>\n",
       "    <tr>\n",
       "      <th>3</th>\n",
       "      <td>Kings XI Punjab</td>\n",
       "      <td>2017</td>\n",
       "      <td>10</td>\n",
       "    </tr>\n",
       "    <tr>\n",
       "      <th>4</th>\n",
       "      <td>Mumbai Indians</td>\n",
       "      <td>2012</td>\n",
       "      <td>10</td>\n",
       "    </tr>\n",
       "  </tbody>\n",
       "</table>\n",
       "</div>"
      ],
      "text/plain": [
       "                        winner  season  win_by_wickets\n",
       "0        Kolkata Knight Riders    2017              10\n",
       "1  Royal Challengers Bangalore    2015              10\n",
       "2             Delhi Daredevils    2009              10\n",
       "3              Kings XI Punjab    2017              10\n",
       "4               Mumbai Indians    2012              10"
      ]
     },
     "execution_count": 82,
     "metadata": {},
     "output_type": "execute_result"
    }
   ],
   "source": [
    "winners_max_wicket.head()"
   ]
  },
  {
   "cell_type": "markdown",
   "id": "50e72227",
   "metadata": {},
   "source": [
    "## DELIVERIES CSV DATA SET"
   ]
  },
  {
   "cell_type": "code",
   "execution_count": 83,
   "id": "e8c1dc06",
   "metadata": {},
   "outputs": [],
   "source": [
    "data_deliveries = pd.read_csv(\"./Data/IPL DataSet/deliveries.csv\")"
   ]
  },
  {
   "cell_type": "code",
   "execution_count": 84,
   "id": "c4806a25",
   "metadata": {},
   "outputs": [
    {
     "data": {
      "text/html": [
       "<div>\n",
       "<style scoped>\n",
       "    .dataframe tbody tr th:only-of-type {\n",
       "        vertical-align: middle;\n",
       "    }\n",
       "\n",
       "    .dataframe tbody tr th {\n",
       "        vertical-align: top;\n",
       "    }\n",
       "\n",
       "    .dataframe thead th {\n",
       "        text-align: right;\n",
       "    }\n",
       "</style>\n",
       "<table border=\"1\" class=\"dataframe\">\n",
       "  <thead>\n",
       "    <tr style=\"text-align: right;\">\n",
       "      <th></th>\n",
       "      <th>match_id</th>\n",
       "      <th>inning</th>\n",
       "      <th>batting_team</th>\n",
       "      <th>bowling_team</th>\n",
       "      <th>over</th>\n",
       "      <th>ball</th>\n",
       "      <th>batsman</th>\n",
       "      <th>non_striker</th>\n",
       "      <th>bowler</th>\n",
       "      <th>is_super_over</th>\n",
       "      <th>...</th>\n",
       "      <th>bye_runs</th>\n",
       "      <th>legbye_runs</th>\n",
       "      <th>noball_runs</th>\n",
       "      <th>penalty_runs</th>\n",
       "      <th>batsman_runs</th>\n",
       "      <th>extra_runs</th>\n",
       "      <th>total_runs</th>\n",
       "      <th>player_dismissed</th>\n",
       "      <th>dismissal_kind</th>\n",
       "      <th>fielder</th>\n",
       "    </tr>\n",
       "  </thead>\n",
       "  <tbody>\n",
       "    <tr>\n",
       "      <th>0</th>\n",
       "      <td>1</td>\n",
       "      <td>1</td>\n",
       "      <td>Sunrisers Hyderabad</td>\n",
       "      <td>Royal Challengers Bangalore</td>\n",
       "      <td>1</td>\n",
       "      <td>1</td>\n",
       "      <td>DA Warner</td>\n",
       "      <td>S Dhawan</td>\n",
       "      <td>TS Mills</td>\n",
       "      <td>0</td>\n",
       "      <td>...</td>\n",
       "      <td>0</td>\n",
       "      <td>0</td>\n",
       "      <td>0</td>\n",
       "      <td>0</td>\n",
       "      <td>0</td>\n",
       "      <td>0</td>\n",
       "      <td>0</td>\n",
       "      <td>NaN</td>\n",
       "      <td>NaN</td>\n",
       "      <td>NaN</td>\n",
       "    </tr>\n",
       "    <tr>\n",
       "      <th>1</th>\n",
       "      <td>1</td>\n",
       "      <td>1</td>\n",
       "      <td>Sunrisers Hyderabad</td>\n",
       "      <td>Royal Challengers Bangalore</td>\n",
       "      <td>1</td>\n",
       "      <td>2</td>\n",
       "      <td>DA Warner</td>\n",
       "      <td>S Dhawan</td>\n",
       "      <td>TS Mills</td>\n",
       "      <td>0</td>\n",
       "      <td>...</td>\n",
       "      <td>0</td>\n",
       "      <td>0</td>\n",
       "      <td>0</td>\n",
       "      <td>0</td>\n",
       "      <td>0</td>\n",
       "      <td>0</td>\n",
       "      <td>0</td>\n",
       "      <td>NaN</td>\n",
       "      <td>NaN</td>\n",
       "      <td>NaN</td>\n",
       "    </tr>\n",
       "    <tr>\n",
       "      <th>2</th>\n",
       "      <td>1</td>\n",
       "      <td>1</td>\n",
       "      <td>Sunrisers Hyderabad</td>\n",
       "      <td>Royal Challengers Bangalore</td>\n",
       "      <td>1</td>\n",
       "      <td>3</td>\n",
       "      <td>DA Warner</td>\n",
       "      <td>S Dhawan</td>\n",
       "      <td>TS Mills</td>\n",
       "      <td>0</td>\n",
       "      <td>...</td>\n",
       "      <td>0</td>\n",
       "      <td>0</td>\n",
       "      <td>0</td>\n",
       "      <td>0</td>\n",
       "      <td>4</td>\n",
       "      <td>0</td>\n",
       "      <td>4</td>\n",
       "      <td>NaN</td>\n",
       "      <td>NaN</td>\n",
       "      <td>NaN</td>\n",
       "    </tr>\n",
       "    <tr>\n",
       "      <th>3</th>\n",
       "      <td>1</td>\n",
       "      <td>1</td>\n",
       "      <td>Sunrisers Hyderabad</td>\n",
       "      <td>Royal Challengers Bangalore</td>\n",
       "      <td>1</td>\n",
       "      <td>4</td>\n",
       "      <td>DA Warner</td>\n",
       "      <td>S Dhawan</td>\n",
       "      <td>TS Mills</td>\n",
       "      <td>0</td>\n",
       "      <td>...</td>\n",
       "      <td>0</td>\n",
       "      <td>0</td>\n",
       "      <td>0</td>\n",
       "      <td>0</td>\n",
       "      <td>0</td>\n",
       "      <td>0</td>\n",
       "      <td>0</td>\n",
       "      <td>NaN</td>\n",
       "      <td>NaN</td>\n",
       "      <td>NaN</td>\n",
       "    </tr>\n",
       "    <tr>\n",
       "      <th>4</th>\n",
       "      <td>1</td>\n",
       "      <td>1</td>\n",
       "      <td>Sunrisers Hyderabad</td>\n",
       "      <td>Royal Challengers Bangalore</td>\n",
       "      <td>1</td>\n",
       "      <td>5</td>\n",
       "      <td>DA Warner</td>\n",
       "      <td>S Dhawan</td>\n",
       "      <td>TS Mills</td>\n",
       "      <td>0</td>\n",
       "      <td>...</td>\n",
       "      <td>0</td>\n",
       "      <td>0</td>\n",
       "      <td>0</td>\n",
       "      <td>0</td>\n",
       "      <td>0</td>\n",
       "      <td>2</td>\n",
       "      <td>2</td>\n",
       "      <td>NaN</td>\n",
       "      <td>NaN</td>\n",
       "      <td>NaN</td>\n",
       "    </tr>\n",
       "  </tbody>\n",
       "</table>\n",
       "<p>5 rows × 21 columns</p>\n",
       "</div>"
      ],
      "text/plain": [
       "   match_id  inning         batting_team                 bowling_team  over  \\\n",
       "0         1       1  Sunrisers Hyderabad  Royal Challengers Bangalore     1   \n",
       "1         1       1  Sunrisers Hyderabad  Royal Challengers Bangalore     1   \n",
       "2         1       1  Sunrisers Hyderabad  Royal Challengers Bangalore     1   \n",
       "3         1       1  Sunrisers Hyderabad  Royal Challengers Bangalore     1   \n",
       "4         1       1  Sunrisers Hyderabad  Royal Challengers Bangalore     1   \n",
       "\n",
       "   ball    batsman non_striker    bowler  is_super_over  ...  bye_runs  \\\n",
       "0     1  DA Warner    S Dhawan  TS Mills              0  ...         0   \n",
       "1     2  DA Warner    S Dhawan  TS Mills              0  ...         0   \n",
       "2     3  DA Warner    S Dhawan  TS Mills              0  ...         0   \n",
       "3     4  DA Warner    S Dhawan  TS Mills              0  ...         0   \n",
       "4     5  DA Warner    S Dhawan  TS Mills              0  ...         0   \n",
       "\n",
       "   legbye_runs  noball_runs  penalty_runs  batsman_runs  extra_runs  \\\n",
       "0            0            0             0             0           0   \n",
       "1            0            0             0             0           0   \n",
       "2            0            0             0             4           0   \n",
       "3            0            0             0             0           0   \n",
       "4            0            0             0             0           2   \n",
       "\n",
       "   total_runs  player_dismissed dismissal_kind fielder  \n",
       "0           0               NaN            NaN     NaN  \n",
       "1           0               NaN            NaN     NaN  \n",
       "2           4               NaN            NaN     NaN  \n",
       "3           0               NaN            NaN     NaN  \n",
       "4           2               NaN            NaN     NaN  \n",
       "\n",
       "[5 rows x 21 columns]"
      ]
     },
     "execution_count": 84,
     "metadata": {},
     "output_type": "execute_result"
    }
   ],
   "source": [
    "data_deliveries.head()"
   ]
  },
  {
   "cell_type": "markdown",
   "id": "564ecdc7",
   "metadata": {},
   "source": [
    "### Height Run In Ipl Till 2019"
   ]
  },
  {
   "cell_type": "code",
   "execution_count": 85,
   "id": "046b8211",
   "metadata": {},
   "outputs": [],
   "source": [
    "most_run_by_batsman = data_deliveries.groupby('batsman').batsman_runs.sum().sort_values(ascending=False)"
   ]
  },
  {
   "cell_type": "code",
   "execution_count": 86,
   "id": "4a4ef217",
   "metadata": {},
   "outputs": [
    {
     "data": {
      "text/plain": [
       "batsman\n",
       "V Kohli      5434\n",
       "SK Raina     5415\n",
       "RG Sharma    4914\n",
       "DA Warner    4741\n",
       "S Dhawan     4632\n",
       "Name: batsman_runs, dtype: int64"
      ]
     },
     "execution_count": 86,
     "metadata": {},
     "output_type": "execute_result"
    }
   ],
   "source": [
    "most_run_by_batsman.head()"
   ]
  },
  {
   "cell_type": "code",
   "execution_count": 87,
   "id": "ad5ec35e",
   "metadata": {},
   "outputs": [
    {
     "data": {
      "text/plain": [
       "<AxesSubplot:xlabel='batsman'>"
      ]
     },
     "execution_count": 87,
     "metadata": {},
     "output_type": "execute_result"
    },
    {
     "data": {
      "image/png": "[encoded data removed]",
      "text/plain": [
       "<Figure size 432x288 with 1 Axes>"
      ]
     },
     "metadata": {
      "needs_background": "light"
     },
     "output_type": "display_data"
    }
   ],
   "source": [
    "most_run_by_batsman.head().plot(kind='bar')"
   ]
  },
  {
   "cell_type": "markdown",
   "id": "db1215d5",
   "metadata": {},
   "source": [
    "## Total no of six run made by players in IPL till 2019"
   ]
  },
  {
   "cell_type": "code",
   "execution_count": 88,
   "id": "32a51bdc",
   "metadata": {},
   "outputs": [],
   "source": [
    "four_run = data_deliveries['batsman_runs'] == 6"
   ]
  },
  {
   "cell_type": "code",
   "execution_count": 89,
   "id": "72233efd",
   "metadata": {},
   "outputs": [],
   "source": [
    "new_deliveries = data_deliveries[four_run]"
   ]
  },
  {
   "cell_type": "code",
   "execution_count": 90,
   "id": "93bdc214",
   "metadata": {},
   "outputs": [
    {
     "data": {
      "text/plain": [
       "8170"
      ]
     },
     "execution_count": 90,
     "metadata": {},
     "output_type": "execute_result"
    }
   ],
   "source": [
    "new_deliveries.shape[0]"
   ]
  },
  {
   "cell_type": "markdown",
   "id": "d4097815",
   "metadata": {},
   "source": [
    "### Most six hit by indivisual player"
   ]
  },
  {
   "cell_type": "code",
   "execution_count": 91,
   "id": "d844f94e",
   "metadata": {},
   "outputs": [
    {
     "data": {
      "text/html": [
       "<div>\n",
       "<style scoped>\n",
       "    .dataframe tbody tr th:only-of-type {\n",
       "        vertical-align: middle;\n",
       "    }\n",
       "\n",
       "    .dataframe tbody tr th {\n",
       "        vertical-align: top;\n",
       "    }\n",
       "\n",
       "    .dataframe thead th {\n",
       "        text-align: right;\n",
       "    }\n",
       "</style>\n",
       "<table border=\"1\" class=\"dataframe\">\n",
       "  <thead>\n",
       "    <tr style=\"text-align: right;\">\n",
       "      <th></th>\n",
       "      <th>batsman</th>\n",
       "      <th>no. of six</th>\n",
       "    </tr>\n",
       "  </thead>\n",
       "  <tbody>\n",
       "    <tr>\n",
       "      <th>0</th>\n",
       "      <td>CH Gayle</td>\n",
       "      <td>327</td>\n",
       "    </tr>\n",
       "    <tr>\n",
       "      <th>1</th>\n",
       "      <td>AB de Villiers</td>\n",
       "      <td>214</td>\n",
       "    </tr>\n",
       "    <tr>\n",
       "      <th>2</th>\n",
       "      <td>MS Dhoni</td>\n",
       "      <td>207</td>\n",
       "    </tr>\n",
       "    <tr>\n",
       "      <th>3</th>\n",
       "      <td>SK Raina</td>\n",
       "      <td>195</td>\n",
       "    </tr>\n",
       "    <tr>\n",
       "      <th>4</th>\n",
       "      <td>RG Sharma</td>\n",
       "      <td>194</td>\n",
       "    </tr>\n",
       "  </tbody>\n",
       "</table>\n",
       "</div>"
      ],
      "text/plain": [
       "          batsman  no. of six\n",
       "0        CH Gayle         327\n",
       "1  AB de Villiers         214\n",
       "2        MS Dhoni         207\n",
       "3        SK Raina         195\n",
       "4       RG Sharma         194"
      ]
     },
     "execution_count": 91,
     "metadata": {},
     "output_type": "execute_result"
    }
   ],
   "source": [
    "new_deliveries.groupby('batsman')['batsman_runs'].count().sort_values(ascending=False).reset_index().rename(columns={'batsman_runs':'no. of six'}).head()"
   ]
  },
  {
   "cell_type": "markdown",
   "id": "3ceca23c",
   "metadata": {},
   "source": [
    "## Most Run Scrore By Rohit Sharma againts which team?"
   ]
  },
  {
   "cell_type": "code",
   "execution_count": 92,
   "id": "35ec03f5",
   "metadata": {},
   "outputs": [
    {
     "data": {
      "text/html": [
       "<div>\n",
       "<style scoped>\n",
       "    .dataframe tbody tr th:only-of-type {\n",
       "        vertical-align: middle;\n",
       "    }\n",
       "\n",
       "    .dataframe tbody tr th {\n",
       "        vertical-align: top;\n",
       "    }\n",
       "\n",
       "    .dataframe thead th {\n",
       "        text-align: right;\n",
       "    }\n",
       "</style>\n",
       "<table border=\"1\" class=\"dataframe\">\n",
       "  <thead>\n",
       "    <tr style=\"text-align: right;\">\n",
       "      <th></th>\n",
       "      <th>match_id</th>\n",
       "      <th>inning</th>\n",
       "      <th>batting_team</th>\n",
       "      <th>bowling_team</th>\n",
       "      <th>over</th>\n",
       "      <th>ball</th>\n",
       "      <th>batsman</th>\n",
       "      <th>non_striker</th>\n",
       "      <th>bowler</th>\n",
       "      <th>is_super_over</th>\n",
       "      <th>...</th>\n",
       "      <th>bye_runs</th>\n",
       "      <th>legbye_runs</th>\n",
       "      <th>noball_runs</th>\n",
       "      <th>penalty_runs</th>\n",
       "      <th>batsman_runs</th>\n",
       "      <th>extra_runs</th>\n",
       "      <th>total_runs</th>\n",
       "      <th>player_dismissed</th>\n",
       "      <th>dismissal_kind</th>\n",
       "      <th>fielder</th>\n",
       "    </tr>\n",
       "  </thead>\n",
       "  <tbody>\n",
       "    <tr>\n",
       "      <th>0</th>\n",
       "      <td>1</td>\n",
       "      <td>1</td>\n",
       "      <td>Sunrisers Hyderabad</td>\n",
       "      <td>Royal Challengers Bangalore</td>\n",
       "      <td>1</td>\n",
       "      <td>1</td>\n",
       "      <td>DA Warner</td>\n",
       "      <td>S Dhawan</td>\n",
       "      <td>TS Mills</td>\n",
       "      <td>0</td>\n",
       "      <td>...</td>\n",
       "      <td>0</td>\n",
       "      <td>0</td>\n",
       "      <td>0</td>\n",
       "      <td>0</td>\n",
       "      <td>0</td>\n",
       "      <td>0</td>\n",
       "      <td>0</td>\n",
       "      <td>NaN</td>\n",
       "      <td>NaN</td>\n",
       "      <td>NaN</td>\n",
       "    </tr>\n",
       "  </tbody>\n",
       "</table>\n",
       "<p>1 rows × 21 columns</p>\n",
       "</div>"
      ],
      "text/plain": [
       "   match_id  inning         batting_team                 bowling_team  over  \\\n",
       "0         1       1  Sunrisers Hyderabad  Royal Challengers Bangalore     1   \n",
       "\n",
       "   ball    batsman non_striker    bowler  is_super_over  ...  bye_runs  \\\n",
       "0     1  DA Warner    S Dhawan  TS Mills              0  ...         0   \n",
       "\n",
       "   legbye_runs  noball_runs  penalty_runs  batsman_runs  extra_runs  \\\n",
       "0            0            0             0             0           0   \n",
       "\n",
       "   total_runs  player_dismissed dismissal_kind fielder  \n",
       "0           0               NaN            NaN     NaN  \n",
       "\n",
       "[1 rows x 21 columns]"
      ]
     },
     "execution_count": 92,
     "metadata": {},
     "output_type": "execute_result"
    }
   ],
   "source": [
    "data_deliveries.head(1)"
   ]
  },
  {
   "cell_type": "code",
   "execution_count": 93,
   "id": "17994c8b",
   "metadata": {},
   "outputs": [],
   "source": [
    "single_player = data_deliveries['batsman'] == 'RG Sharma'"
   ]
  },
  {
   "cell_type": "code",
   "execution_count": 94,
   "id": "6e7fcb82",
   "metadata": {},
   "outputs": [],
   "source": [
    " Rohit_sharma = data_deliveries[single_player]"
   ]
  },
  {
   "cell_type": "code",
   "execution_count": 95,
   "id": "d6864436",
   "metadata": {},
   "outputs": [],
   "source": [
    "rohit_runs_against_indivuals_team = Rohit_sharma.groupby('bowling_team').batsman_runs.sum().sort_values(ascending=False)"
   ]
  },
  {
   "cell_type": "code",
   "execution_count": 96,
   "id": "fee369e7",
   "metadata": {},
   "outputs": [
    {
     "data": {
      "text/html": [
       "<div>\n",
       "<style scoped>\n",
       "    .dataframe tbody tr th:only-of-type {\n",
       "        vertical-align: middle;\n",
       "    }\n",
       "\n",
       "    .dataframe tbody tr th {\n",
       "        vertical-align: top;\n",
       "    }\n",
       "\n",
       "    .dataframe thead th {\n",
       "        text-align: right;\n",
       "    }\n",
       "</style>\n",
       "<table border=\"1\" class=\"dataframe\">\n",
       "  <thead>\n",
       "    <tr style=\"text-align: right;\">\n",
       "      <th></th>\n",
       "      <th>bowling_team</th>\n",
       "      <th>batsman_runs</th>\n",
       "    </tr>\n",
       "  </thead>\n",
       "  <tbody>\n",
       "    <tr>\n",
       "      <th>0</th>\n",
       "      <td>Kolkata Knight Riders</td>\n",
       "      <td>827</td>\n",
       "    </tr>\n",
       "    <tr>\n",
       "      <th>1</th>\n",
       "      <td>Chennai Super Kings</td>\n",
       "      <td>710</td>\n",
       "    </tr>\n",
       "    <tr>\n",
       "      <th>2</th>\n",
       "      <td>Delhi Daredevils</td>\n",
       "      <td>703</td>\n",
       "    </tr>\n",
       "    <tr>\n",
       "      <th>3</th>\n",
       "      <td>Royal Challengers Bangalore</td>\n",
       "      <td>693</td>\n",
       "    </tr>\n",
       "    <tr>\n",
       "      <th>4</th>\n",
       "      <td>Kings XI Punjab</td>\n",
       "      <td>590</td>\n",
       "    </tr>\n",
       "  </tbody>\n",
       "</table>\n",
       "</div>"
      ],
      "text/plain": [
       "                  bowling_team  batsman_runs\n",
       "0        Kolkata Knight Riders           827\n",
       "1          Chennai Super Kings           710\n",
       "2             Delhi Daredevils           703\n",
       "3  Royal Challengers Bangalore           693\n",
       "4              Kings XI Punjab           590"
      ]
     },
     "execution_count": 96,
     "metadata": {},
     "output_type": "execute_result"
    }
   ],
   "source": [
    "rohit_runs_against_indivuals_team.head().reset_index()"
   ]
  },
  {
   "cell_type": "markdown",
   "id": "815df45c",
   "metadata": {},
   "source": [
    "### Find the most destructive death over batman the history IPL?"
   ]
  },
  {
   "cell_type": "code",
   "execution_count": 97,
   "id": "b9759968",
   "metadata": {},
   "outputs": [],
   "source": [
    "death_over = data_deliveries[data_deliveries['over'] > 16]"
   ]
  },
  {
   "cell_type": "code",
   "execution_count": 98,
   "id": "797844a1",
   "metadata": {},
   "outputs": [],
   "source": [
    "All_batman = death_over.groupby('batsman')['batsman_runs'].count()"
   ]
  },
  {
   "cell_type": "code",
   "execution_count": 99,
   "id": "a87651b3",
   "metadata": {},
   "outputs": [],
   "source": [
    "x = All_batman > 300"
   ]
  },
  {
   "cell_type": "code",
   "execution_count": 100,
   "id": "7308d6ba",
   "metadata": {},
   "outputs": [],
   "source": [
    "batman_list = All_batman[x].index.tolist()"
   ]
  },
  {
   "cell_type": "code",
   "execution_count": 101,
   "id": "56e799ed",
   "metadata": {},
   "outputs": [],
   "source": [
    "final = death_over[death_over['batsman'].isin(batman_list)]"
   ]
  },
  {
   "cell_type": "code",
   "execution_count": 102,
   "id": "7a706199",
   "metadata": {},
   "outputs": [],
   "source": [
    "run = final.groupby('batsman')['batsman_runs'].sum();"
   ]
  },
  {
   "cell_type": "code",
   "execution_count": 103,
   "id": "0f31b3bd",
   "metadata": {},
   "outputs": [],
   "source": [
    "ball = final.groupby('batsman')['batsman_runs'].count();"
   ]
  },
  {
   "cell_type": "code",
   "execution_count": 104,
   "id": "1367fe54",
   "metadata": {},
   "outputs": [],
   "source": [
    "sr = run/ball *100"
   ]
  },
  {
   "cell_type": "code",
   "execution_count": 105,
   "id": "0d840468",
   "metadata": {},
   "outputs": [
    {
     "data": {
      "text/html": [
       "<div>\n",
       "<style scoped>\n",
       "    .dataframe tbody tr th:only-of-type {\n",
       "        vertical-align: middle;\n",
       "    }\n",
       "\n",
       "    .dataframe tbody tr th {\n",
       "        vertical-align: top;\n",
       "    }\n",
       "\n",
       "    .dataframe thead th {\n",
       "        text-align: right;\n",
       "    }\n",
       "</style>\n",
       "<table border=\"1\" class=\"dataframe\">\n",
       "  <thead>\n",
       "    <tr style=\"text-align: right;\">\n",
       "      <th></th>\n",
       "      <th>batsman</th>\n",
       "      <th>Strike Rate</th>\n",
       "    </tr>\n",
       "  </thead>\n",
       "  <tbody>\n",
       "    <tr>\n",
       "      <th>0</th>\n",
       "      <td>AB de Villiers</td>\n",
       "      <td>226.483051</td>\n",
       "    </tr>\n",
       "    <tr>\n",
       "      <th>1</th>\n",
       "      <td>AD Russell</td>\n",
       "      <td>207.621951</td>\n",
       "    </tr>\n",
       "    <tr>\n",
       "      <th>2</th>\n",
       "      <td>V Kohli</td>\n",
       "      <td>198.620690</td>\n",
       "    </tr>\n",
       "    <tr>\n",
       "      <th>3</th>\n",
       "      <td>RG Sharma</td>\n",
       "      <td>193.378608</td>\n",
       "    </tr>\n",
       "    <tr>\n",
       "      <th>4</th>\n",
       "      <td>DA Miller</td>\n",
       "      <td>184.000000</td>\n",
       "    </tr>\n",
       "  </tbody>\n",
       "</table>\n",
       "</div>"
      ],
      "text/plain": [
       "          batsman  Strike Rate\n",
       "0  AB de Villiers   226.483051\n",
       "1      AD Russell   207.621951\n",
       "2         V Kohli   198.620690\n",
       "3       RG Sharma   193.378608\n",
       "4       DA Miller   184.000000"
      ]
     },
     "execution_count": 105,
     "metadata": {},
     "output_type": "execute_result"
    }
   ],
   "source": [
    "sr.sort_values(ascending=False).head().reset_index().rename(columns = {'batsman_runs':'Strike Rate'})\n"
   ]
  },
  {
   "cell_type": "markdown",
   "id": "997e9775",
   "metadata": {},
   "source": [
    "### Find the best average death over bowler the history IPL?"
   ]
  },
  {
   "cell_type": "code",
   "execution_count": 106,
   "id": "6e8f67cd",
   "metadata": {},
   "outputs": [],
   "source": [
    "ball_count = death_over.groupby('bowler')['ball'].count()"
   ]
  },
  {
   "cell_type": "code",
   "execution_count": 107,
   "id": "780e5229",
   "metadata": {},
   "outputs": [],
   "source": [
    "y = ball_count > 100"
   ]
  },
  {
   "cell_type": "code",
   "execution_count": 108,
   "id": "ee419edb",
   "metadata": {},
   "outputs": [],
   "source": [
    "bowler_list = ball_count[y].index.tolist()"
   ]
  },
  {
   "cell_type": "code",
   "execution_count": 109,
   "id": "c409a85f",
   "metadata": {},
   "outputs": [],
   "source": [
    "final_bowler_list = death_over[death_over['bowler'].isin(bowler_list)]"
   ]
  },
  {
   "cell_type": "code",
   "execution_count": 110,
   "id": "ed4e3b38",
   "metadata": {},
   "outputs": [],
   "source": [
    "wicket = final_bowler_list.groupby('bowler')['player_dismissed'].count()"
   ]
  },
  {
   "cell_type": "code",
   "execution_count": 111,
   "id": "d5b836ac",
   "metadata": {},
   "outputs": [],
   "source": [
    "balling_avg = wicket/ball_count * 100"
   ]
  },
  {
   "cell_type": "code",
   "execution_count": 112,
   "id": "078bfe3e",
   "metadata": {},
   "outputs": [
    {
     "data": {
      "text/plain": [
       "bowler\n",
       "A Kumble           13.392857\n",
       "NM Coulter-Nile    12.500000\n",
       "A Nehra            12.442396\n",
       "K Rabada           12.352941\n",
       "R Bhatia           12.269939\n",
       "dtype: float64"
      ]
     },
     "execution_count": 112,
     "metadata": {},
     "output_type": "execute_result"
    }
   ],
   "source": [
    "balling_avg.sort_values(ascending=False).head()"
   ]
  },
  {
   "cell_type": "markdown",
   "id": "e21d2b64",
   "metadata": {},
   "source": [
    "### Find the most dot ball bowl in death over bowler the history IPL?"
   ]
  },
  {
   "cell_type": "code",
   "execution_count": 113,
   "id": "b77bd5bc",
   "metadata": {},
   "outputs": [],
   "source": [
    "dotball = death_over[death_over['total_runs'] == 0]"
   ]
  },
  {
   "cell_type": "code",
   "execution_count": 114,
   "id": "a8021eb2",
   "metadata": {},
   "outputs": [
    {
     "data": {
      "text/html": [
       "<div>\n",
       "<style scoped>\n",
       "    .dataframe tbody tr th:only-of-type {\n",
       "        vertical-align: middle;\n",
       "    }\n",
       "\n",
       "    .dataframe tbody tr th {\n",
       "        vertical-align: top;\n",
       "    }\n",
       "\n",
       "    .dataframe thead th {\n",
       "        text-align: right;\n",
       "    }\n",
       "</style>\n",
       "<table border=\"1\" class=\"dataframe\">\n",
       "  <thead>\n",
       "    <tr style=\"text-align: right;\">\n",
       "      <th></th>\n",
       "      <th>bowler</th>\n",
       "      <th>Dot Ball</th>\n",
       "    </tr>\n",
       "  </thead>\n",
       "  <tbody>\n",
       "    <tr>\n",
       "      <th>0</th>\n",
       "      <td>SL Malinga</td>\n",
       "      <td>285</td>\n",
       "    </tr>\n",
       "    <tr>\n",
       "      <th>1</th>\n",
       "      <td>DJ Bravo</td>\n",
       "      <td>253</td>\n",
       "    </tr>\n",
       "    <tr>\n",
       "      <th>2</th>\n",
       "      <td>SP Narine</td>\n",
       "      <td>218</td>\n",
       "    </tr>\n",
       "    <tr>\n",
       "      <th>3</th>\n",
       "      <td>B Kumar</td>\n",
       "      <td>214</td>\n",
       "    </tr>\n",
       "    <tr>\n",
       "      <th>4</th>\n",
       "      <td>JJ Bumrah</td>\n",
       "      <td>190</td>\n",
       "    </tr>\n",
       "  </tbody>\n",
       "</table>\n",
       "</div>"
      ],
      "text/plain": [
       "       bowler  Dot Ball\n",
       "0  SL Malinga       285\n",
       "1    DJ Bravo       253\n",
       "2   SP Narine       218\n",
       "3     B Kumar       214\n",
       "4   JJ Bumrah       190"
      ]
     },
     "execution_count": 114,
     "metadata": {},
     "output_type": "execute_result"
    }
   ],
   "source": [
    "dotball.groupby('bowler')['total_runs'].count().sort_values(ascending=False).reset_index().rename(columns={'total_runs':'Dot Ball'}).head()"
   ]
  },
  {
   "cell_type": "code",
   "execution_count": 115,
   "id": "874bdbe2",
   "metadata": {},
   "outputs": [
    {
     "data": {
      "text/html": [
       "<div>\n",
       "<style scoped>\n",
       "    .dataframe tbody tr th:only-of-type {\n",
       "        vertical-align: middle;\n",
       "    }\n",
       "\n",
       "    .dataframe tbody tr th {\n",
       "        vertical-align: top;\n",
       "    }\n",
       "\n",
       "    .dataframe thead th {\n",
       "        text-align: right;\n",
       "    }\n",
       "</style>\n",
       "<table border=\"1\" class=\"dataframe\">\n",
       "  <thead>\n",
       "    <tr style=\"text-align: right;\">\n",
       "      <th></th>\n",
       "      <th>match_id</th>\n",
       "      <th>inning</th>\n",
       "      <th>batting_team</th>\n",
       "      <th>bowling_team</th>\n",
       "      <th>over</th>\n",
       "      <th>ball</th>\n",
       "      <th>batsman</th>\n",
       "      <th>non_striker</th>\n",
       "      <th>bowler</th>\n",
       "      <th>is_super_over</th>\n",
       "      <th>...</th>\n",
       "      <th>bye_runs</th>\n",
       "      <th>legbye_runs</th>\n",
       "      <th>noball_runs</th>\n",
       "      <th>penalty_runs</th>\n",
       "      <th>batsman_runs</th>\n",
       "      <th>extra_runs</th>\n",
       "      <th>total_runs</th>\n",
       "      <th>player_dismissed</th>\n",
       "      <th>dismissal_kind</th>\n",
       "      <th>fielder</th>\n",
       "    </tr>\n",
       "  </thead>\n",
       "  <tbody>\n",
       "    <tr>\n",
       "      <th>0</th>\n",
       "      <td>1</td>\n",
       "      <td>1</td>\n",
       "      <td>Sunrisers Hyderabad</td>\n",
       "      <td>Royal Challengers Bangalore</td>\n",
       "      <td>1</td>\n",
       "      <td>1</td>\n",
       "      <td>DA Warner</td>\n",
       "      <td>S Dhawan</td>\n",
       "      <td>TS Mills</td>\n",
       "      <td>0</td>\n",
       "      <td>...</td>\n",
       "      <td>0</td>\n",
       "      <td>0</td>\n",
       "      <td>0</td>\n",
       "      <td>0</td>\n",
       "      <td>0</td>\n",
       "      <td>0</td>\n",
       "      <td>0</td>\n",
       "      <td>NaN</td>\n",
       "      <td>NaN</td>\n",
       "      <td>NaN</td>\n",
       "    </tr>\n",
       "  </tbody>\n",
       "</table>\n",
       "<p>1 rows × 21 columns</p>\n",
       "</div>"
      ],
      "text/plain": [
       "   match_id  inning         batting_team                 bowling_team  over  \\\n",
       "0         1       1  Sunrisers Hyderabad  Royal Challengers Bangalore     1   \n",
       "\n",
       "   ball    batsman non_striker    bowler  is_super_over  ...  bye_runs  \\\n",
       "0     1  DA Warner    S Dhawan  TS Mills              0  ...         0   \n",
       "\n",
       "   legbye_runs  noball_runs  penalty_runs  batsman_runs  extra_runs  \\\n",
       "0            0            0             0             0           0   \n",
       "\n",
       "   total_runs  player_dismissed dismissal_kind fielder  \n",
       "0           0               NaN            NaN     NaN  \n",
       "\n",
       "[1 rows x 21 columns]"
      ]
     },
     "execution_count": 115,
     "metadata": {},
     "output_type": "execute_result"
    }
   ],
   "source": [
    "data_deliveries.head(1)"
   ]
  },
  {
   "cell_type": "code",
   "execution_count": 116,
   "id": "fc2b63cc",
   "metadata": {},
   "outputs": [
    {
     "data": {
      "text/html": [
       "<div>\n",
       "<style scoped>\n",
       "    .dataframe tbody tr th:only-of-type {\n",
       "        vertical-align: middle;\n",
       "    }\n",
       "\n",
       "    .dataframe tbody tr th {\n",
       "        vertical-align: top;\n",
       "    }\n",
       "\n",
       "    .dataframe thead th {\n",
       "        text-align: right;\n",
       "    }\n",
       "</style>\n",
       "<table border=\"1\" class=\"dataframe\">\n",
       "  <thead>\n",
       "    <tr style=\"text-align: right;\">\n",
       "      <th></th>\n",
       "      <th>id</th>\n",
       "      <th>season</th>\n",
       "      <th>city</th>\n",
       "      <th>date</th>\n",
       "      <th>team1</th>\n",
       "      <th>team2</th>\n",
       "      <th>toss_winner</th>\n",
       "      <th>toss_decision</th>\n",
       "      <th>result</th>\n",
       "      <th>dl_applied</th>\n",
       "      <th>winner</th>\n",
       "      <th>win_by_runs</th>\n",
       "      <th>win_by_wickets</th>\n",
       "      <th>player_of_match</th>\n",
       "      <th>venue</th>\n",
       "      <th>umpire1</th>\n",
       "      <th>umpire2</th>\n",
       "      <th>umpire3</th>\n",
       "    </tr>\n",
       "  </thead>\n",
       "  <tbody>\n",
       "    <tr>\n",
       "      <th>0</th>\n",
       "      <td>1</td>\n",
       "      <td>2017</td>\n",
       "      <td>Hyderabad</td>\n",
       "      <td>2017-04-05</td>\n",
       "      <td>Sunrisers Hyderabad</td>\n",
       "      <td>Royal Challengers Bangalore</td>\n",
       "      <td>Royal Challengers Bangalore</td>\n",
       "      <td>field</td>\n",
       "      <td>normal</td>\n",
       "      <td>0</td>\n",
       "      <td>Sunrisers Hyderabad</td>\n",
       "      <td>35</td>\n",
       "      <td>0</td>\n",
       "      <td>Yuvraj Singh</td>\n",
       "      <td>Rajiv Gandhi International Stadium, Uppal</td>\n",
       "      <td>AY Dandekar</td>\n",
       "      <td>NJ Llong</td>\n",
       "      <td>NaN</td>\n",
       "    </tr>\n",
       "  </tbody>\n",
       "</table>\n",
       "</div>"
      ],
      "text/plain": [
       "   id  season       city        date                team1  \\\n",
       "0   1    2017  Hyderabad  2017-04-05  Sunrisers Hyderabad   \n",
       "\n",
       "                         team2                  toss_winner toss_decision  \\\n",
       "0  Royal Challengers Bangalore  Royal Challengers Bangalore         field   \n",
       "\n",
       "   result  dl_applied               winner  win_by_runs  win_by_wickets  \\\n",
       "0  normal           0  Sunrisers Hyderabad           35               0   \n",
       "\n",
       "  player_of_match                                      venue      umpire1  \\\n",
       "0    Yuvraj Singh  Rajiv Gandhi International Stadium, Uppal  AY Dandekar   \n",
       "\n",
       "    umpire2 umpire3  \n",
       "0  NJ Llong     NaN  "
      ]
     },
     "execution_count": 116,
     "metadata": {},
     "output_type": "execute_result"
    }
   ],
   "source": [
    "data.head(1)"
   ]
  },
  {
   "cell_type": "code",
   "execution_count": 119,
   "id": "fe91040a",
   "metadata": {},
   "outputs": [],
   "source": [
    "merged_df = data_deliveries.merge(data,left_on='match_id',right_on='id')"
   ]
  },
  {
   "cell_type": "markdown",
   "id": "51c587eb",
   "metadata": {},
   "source": [
    "## Top Scorer In Every Season Of IPL"
   ]
  },
  {
   "cell_type": "code",
   "execution_count": 128,
   "id": "8f68f004",
   "metadata": {},
   "outputs": [
    {
     "data": {
      "text/html": [
       "<div>\n",
       "<style scoped>\n",
       "    .dataframe tbody tr th:only-of-type {\n",
       "        vertical-align: middle;\n",
       "    }\n",
       "\n",
       "    .dataframe tbody tr th {\n",
       "        vertical-align: top;\n",
       "    }\n",
       "\n",
       "    .dataframe thead th {\n",
       "        text-align: right;\n",
       "    }\n",
       "</style>\n",
       "<table border=\"1\" class=\"dataframe\">\n",
       "  <thead>\n",
       "    <tr style=\"text-align: right;\">\n",
       "      <th></th>\n",
       "      <th>season</th>\n",
       "      <th>batsman</th>\n",
       "      <th>batsman_runs</th>\n",
       "    </tr>\n",
       "  </thead>\n",
       "  <tbody>\n",
       "    <tr>\n",
       "      <th>14</th>\n",
       "      <td>2008</td>\n",
       "      <td>SE Marsh</td>\n",
       "      <td>616</td>\n",
       "    </tr>\n",
       "    <tr>\n",
       "      <th>21</th>\n",
       "      <td>2009</td>\n",
       "      <td>ML Hayden</td>\n",
       "      <td>572</td>\n",
       "    </tr>\n",
       "    <tr>\n",
       "      <th>13</th>\n",
       "      <td>2010</td>\n",
       "      <td>SR Tendulkar</td>\n",
       "      <td>618</td>\n",
       "    </tr>\n",
       "    <tr>\n",
       "      <th>17</th>\n",
       "      <td>2011</td>\n",
       "      <td>CH Gayle</td>\n",
       "      <td>608</td>\n",
       "    </tr>\n",
       "    <tr>\n",
       "      <th>3</th>\n",
       "      <td>2012</td>\n",
       "      <td>CH Gayle</td>\n",
       "      <td>733</td>\n",
       "    </tr>\n",
       "    <tr>\n",
       "      <th>4</th>\n",
       "      <td>2013</td>\n",
       "      <td>MEK Hussey</td>\n",
       "      <td>733</td>\n",
       "    </tr>\n",
       "    <tr>\n",
       "      <th>10</th>\n",
       "      <td>2014</td>\n",
       "      <td>RV Uthappa</td>\n",
       "      <td>660</td>\n",
       "    </tr>\n",
       "    <tr>\n",
       "      <th>25</th>\n",
       "      <td>2015</td>\n",
       "      <td>DA Warner</td>\n",
       "      <td>562</td>\n",
       "    </tr>\n",
       "    <tr>\n",
       "      <th>0</th>\n",
       "      <td>2016</td>\n",
       "      <td>V Kohli</td>\n",
       "      <td>973</td>\n",
       "    </tr>\n",
       "    <tr>\n",
       "      <th>11</th>\n",
       "      <td>2017</td>\n",
       "      <td>DA Warner</td>\n",
       "      <td>641</td>\n",
       "    </tr>\n",
       "    <tr>\n",
       "      <th>2</th>\n",
       "      <td>2018</td>\n",
       "      <td>KS Williamson</td>\n",
       "      <td>747</td>\n",
       "    </tr>\n",
       "    <tr>\n",
       "      <th>5</th>\n",
       "      <td>2019</td>\n",
       "      <td>DA Warner</td>\n",
       "      <td>727</td>\n",
       "    </tr>\n",
       "  </tbody>\n",
       "</table>\n",
       "</div>"
      ],
      "text/plain": [
       "    season        batsman  batsman_runs\n",
       "14    2008       SE Marsh           616\n",
       "21    2009      ML Hayden           572\n",
       "13    2010   SR Tendulkar           618\n",
       "17    2011       CH Gayle           608\n",
       "3     2012       CH Gayle           733\n",
       "4     2013     MEK Hussey           733\n",
       "10    2014     RV Uthappa           660\n",
       "25    2015      DA Warner           562\n",
       "0     2016        V Kohli           973\n",
       "11    2017      DA Warner           641\n",
       "2     2018  KS Williamson           747\n",
       "5     2019      DA Warner           727"
      ]
     },
     "execution_count": 128,
     "metadata": {},
     "output_type": "execute_result"
    }
   ],
   "source": [
    "merged_df.groupby(['season','batsman'])['batsman_runs'].sum().sort_values(ascending=False).reset_index().drop_duplicates(subset = 'season' , keep='first').sort_values('season')"
   ]
  },
  {
   "cell_type": "code",
   "execution_count": 129,
   "id": "348e1d7e",
   "metadata": {},
   "outputs": [
    {
     "data": {
      "text/html": [
       "<div>\n",
       "<style scoped>\n",
       "    .dataframe tbody tr th:only-of-type {\n",
       "        vertical-align: middle;\n",
       "    }\n",
       "\n",
       "    .dataframe tbody tr th {\n",
       "        vertical-align: top;\n",
       "    }\n",
       "\n",
       "    .dataframe thead th {\n",
       "        text-align: right;\n",
       "    }\n",
       "</style>\n",
       "<table border=\"1\" class=\"dataframe\">\n",
       "  <thead>\n",
       "    <tr style=\"text-align: right;\">\n",
       "      <th></th>\n",
       "      <th>match_id</th>\n",
       "      <th>inning</th>\n",
       "      <th>batting_team</th>\n",
       "      <th>bowling_team</th>\n",
       "      <th>over</th>\n",
       "      <th>ball</th>\n",
       "      <th>batsman</th>\n",
       "      <th>non_striker</th>\n",
       "      <th>bowler</th>\n",
       "      <th>is_super_over</th>\n",
       "      <th>...</th>\n",
       "      <th>result</th>\n",
       "      <th>dl_applied</th>\n",
       "      <th>winner</th>\n",
       "      <th>win_by_runs</th>\n",
       "      <th>win_by_wickets</th>\n",
       "      <th>player_of_match</th>\n",
       "      <th>venue</th>\n",
       "      <th>umpire1</th>\n",
       "      <th>umpire2</th>\n",
       "      <th>umpire3</th>\n",
       "    </tr>\n",
       "  </thead>\n",
       "  <tbody>\n",
       "    <tr>\n",
       "      <th>0</th>\n",
       "      <td>1</td>\n",
       "      <td>1</td>\n",
       "      <td>Sunrisers Hyderabad</td>\n",
       "      <td>Royal Challengers Bangalore</td>\n",
       "      <td>1</td>\n",
       "      <td>1</td>\n",
       "      <td>DA Warner</td>\n",
       "      <td>S Dhawan</td>\n",
       "      <td>TS Mills</td>\n",
       "      <td>0</td>\n",
       "      <td>...</td>\n",
       "      <td>normal</td>\n",
       "      <td>0</td>\n",
       "      <td>Sunrisers Hyderabad</td>\n",
       "      <td>35</td>\n",
       "      <td>0</td>\n",
       "      <td>Yuvraj Singh</td>\n",
       "      <td>Rajiv Gandhi International Stadium, Uppal</td>\n",
       "      <td>AY Dandekar</td>\n",
       "      <td>NJ Llong</td>\n",
       "      <td>NaN</td>\n",
       "    </tr>\n",
       "  </tbody>\n",
       "</table>\n",
       "<p>1 rows × 39 columns</p>\n",
       "</div>"
      ],
      "text/plain": [
       "   match_id  inning         batting_team                 bowling_team  over  \\\n",
       "0         1       1  Sunrisers Hyderabad  Royal Challengers Bangalore     1   \n",
       "\n",
       "   ball    batsman non_striker    bowler  is_super_over  ...  result  \\\n",
       "0     1  DA Warner    S Dhawan  TS Mills              0  ...  normal   \n",
       "\n",
       "   dl_applied               winner  win_by_runs  win_by_wickets  \\\n",
       "0           0  Sunrisers Hyderabad           35               0   \n",
       "\n",
       "   player_of_match                                      venue      umpire1  \\\n",
       "0     Yuvraj Singh  Rajiv Gandhi International Stadium, Uppal  AY Dandekar   \n",
       "\n",
       "    umpire2 umpire3  \n",
       "0  NJ Llong     NaN  \n",
       "\n",
       "[1 rows x 39 columns]"
      ]
     },
     "execution_count": 129,
     "metadata": {},
     "output_type": "execute_result"
    }
   ],
   "source": [
    "merged_df.head(1)"
   ]
  },
  {
   "cell_type": "code",
   "execution_count": 131,
   "id": "8456914f",
   "metadata": {},
   "outputs": [
    {
     "data": {
      "text/plain": [
       "Index(['match_id', 'inning', 'batting_team', 'bowling_team', 'over', 'ball',\n",
       "       'batsman', 'non_striker', 'bowler', 'is_super_over', 'wide_runs',\n",
       "       'bye_runs', 'legbye_runs', 'noball_runs', 'penalty_runs',\n",
       "       'batsman_runs', 'extra_runs', 'total_runs', 'player_dismissed',\n",
       "       'dismissal_kind', 'fielder', 'id', 'season', 'city', 'date', 'team1',\n",
       "       'team2', 'toss_winner', 'toss_decision', 'result', 'dl_applied',\n",
       "       'winner', 'win_by_runs', 'win_by_wickets', 'player_of_match', 'venue',\n",
       "       'umpire1', 'umpire2', 'umpire3'],\n",
       "      dtype='object')"
      ]
     },
     "execution_count": 131,
     "metadata": {},
     "output_type": "execute_result"
    }
   ],
   "source": [
    "merged_df.columns"
   ]
  },
  {
   "cell_type": "markdown",
   "id": "79cf53cd",
   "metadata": {},
   "source": [
    "## Most Wicket Taker In Every Season Of IPL"
   ]
  },
  {
   "cell_type": "code",
   "execution_count": 137,
   "id": "e90b7d78",
   "metadata": {},
   "outputs": [
    {
     "data": {
      "text/html": [
       "<div>\n",
       "<style scoped>\n",
       "    .dataframe tbody tr th:only-of-type {\n",
       "        vertical-align: middle;\n",
       "    }\n",
       "\n",
       "    .dataframe tbody tr th {\n",
       "        vertical-align: top;\n",
       "    }\n",
       "\n",
       "    .dataframe thead th {\n",
       "        text-align: right;\n",
       "    }\n",
       "</style>\n",
       "<table border=\"1\" class=\"dataframe\">\n",
       "  <thead>\n",
       "    <tr style=\"text-align: right;\">\n",
       "      <th></th>\n",
       "      <th>season</th>\n",
       "      <th>bowler</th>\n",
       "      <th>player_dismissed</th>\n",
       "    </tr>\n",
       "  </thead>\n",
       "  <tbody>\n",
       "    <tr>\n",
       "      <th>23</th>\n",
       "      <td>2008</td>\n",
       "      <td>Sohail Tanvir</td>\n",
       "      <td>24</td>\n",
       "    </tr>\n",
       "    <tr>\n",
       "      <th>13</th>\n",
       "      <td>2009</td>\n",
       "      <td>RP Singh</td>\n",
       "      <td>26</td>\n",
       "    </tr>\n",
       "    <tr>\n",
       "      <th>29</th>\n",
       "      <td>2010</td>\n",
       "      <td>PP Ojha</td>\n",
       "      <td>22</td>\n",
       "    </tr>\n",
       "    <tr>\n",
       "      <th>2</th>\n",
       "      <td>2011</td>\n",
       "      <td>SL Malinga</td>\n",
       "      <td>30</td>\n",
       "    </tr>\n",
       "    <tr>\n",
       "      <th>3</th>\n",
       "      <td>2012</td>\n",
       "      <td>M Morkel</td>\n",
       "      <td>30</td>\n",
       "    </tr>\n",
       "    <tr>\n",
       "      <th>0</th>\n",
       "      <td>2013</td>\n",
       "      <td>DJ Bravo</td>\n",
       "      <td>34</td>\n",
       "    </tr>\n",
       "    <tr>\n",
       "      <th>15</th>\n",
       "      <td>2014</td>\n",
       "      <td>MM Sharma</td>\n",
       "      <td>26</td>\n",
       "    </tr>\n",
       "    <tr>\n",
       "      <th>5</th>\n",
       "      <td>2015</td>\n",
       "      <td>DJ Bravo</td>\n",
       "      <td>28</td>\n",
       "    </tr>\n",
       "    <tr>\n",
       "      <th>20</th>\n",
       "      <td>2016</td>\n",
       "      <td>B Kumar</td>\n",
       "      <td>24</td>\n",
       "    </tr>\n",
       "    <tr>\n",
       "      <th>6</th>\n",
       "      <td>2017</td>\n",
       "      <td>B Kumar</td>\n",
       "      <td>28</td>\n",
       "    </tr>\n",
       "    <tr>\n",
       "      <th>8</th>\n",
       "      <td>2018</td>\n",
       "      <td>AJ Tye</td>\n",
       "      <td>28</td>\n",
       "    </tr>\n",
       "    <tr>\n",
       "      <th>7</th>\n",
       "      <td>2019</td>\n",
       "      <td>K Rabada</td>\n",
       "      <td>28</td>\n",
       "    </tr>\n",
       "  </tbody>\n",
       "</table>\n",
       "</div>"
      ],
      "text/plain": [
       "    season         bowler  player_dismissed\n",
       "23    2008  Sohail Tanvir                24\n",
       "13    2009       RP Singh                26\n",
       "29    2010        PP Ojha                22\n",
       "2     2011     SL Malinga                30\n",
       "3     2012       M Morkel                30\n",
       "0     2013       DJ Bravo                34\n",
       "15    2014      MM Sharma                26\n",
       "5     2015       DJ Bravo                28\n",
       "20    2016        B Kumar                24\n",
       "6     2017        B Kumar                28\n",
       "8     2018         AJ Tye                28\n",
       "7     2019       K Rabada                28"
      ]
     },
     "execution_count": 137,
     "metadata": {},
     "output_type": "execute_result"
    }
   ],
   "source": [
    "merged_df.groupby(['season','bowler'])['player_dismissed'].count().sort_values(ascending=False).reset_index().drop_duplicates(subset = 'season' , keep='first').sort_values('season')"
   ]
  },
  {
   "cell_type": "markdown",
   "id": "4139ee02",
   "metadata": {},
   "source": [
    "## Player with most strike rate in every season"
   ]
  },
  {
   "cell_type": "code",
   "execution_count": 184,
   "id": "1c2adf93",
   "metadata": {},
   "outputs": [],
   "source": [
    "batsman = merged_df.groupby('batsman')['batsman_runs'].count()"
   ]
  },
  {
   "cell_type": "code",
   "execution_count": 189,
   "id": "43a40851",
   "metadata": {},
   "outputs": [],
   "source": [
    "x = batsman > 300"
   ]
  },
  {
   "cell_type": "code",
   "execution_count": 190,
   "id": "55f3f2ba",
   "metadata": {},
   "outputs": [],
   "source": [
    "batman_lists = batsman[x].index.tolist()"
   ]
  },
  {
   "cell_type": "code",
   "execution_count": 195,
   "id": "b2b561f5",
   "metadata": {},
   "outputs": [],
   "source": [
    "final_df = merged_df[merged_df['batsman'].isin(batman_lists)]"
   ]
  },
  {
   "cell_type": "code",
   "execution_count": 197,
   "id": "f2515baa",
   "metadata": {},
   "outputs": [],
   "source": [
    "run_everySeason = final_df.groupby(['season','batsman'])['batsman_runs'].sum().sort_values(ascending=False)"
   ]
  },
  {
   "cell_type": "code",
   "execution_count": 198,
   "id": "cc6c9b74",
   "metadata": {},
   "outputs": [],
   "source": [
    "ball_everySeason = final_df.groupby(['season','batsman'])['batsman_runs'].count().sort_values(ascending=False)"
   ]
  },
  {
   "cell_type": "code",
   "execution_count": 199,
   "id": "e4007ea4",
   "metadata": {},
   "outputs": [],
   "source": [
    "SR_everySeason = run_everySeason/ball_everySeason *100"
   ]
  },
  {
   "cell_type": "code",
   "execution_count": 202,
   "id": "c2f6c16a",
   "metadata": {},
   "outputs": [
    {
     "data": {
      "text/html": [
       "<div>\n",
       "<style scoped>\n",
       "    .dataframe tbody tr th:only-of-type {\n",
       "        vertical-align: middle;\n",
       "    }\n",
       "\n",
       "    .dataframe tbody tr th {\n",
       "        vertical-align: top;\n",
       "    }\n",
       "\n",
       "    .dataframe thead th {\n",
       "        text-align: right;\n",
       "    }\n",
       "</style>\n",
       "<table border=\"1\" class=\"dataframe\">\n",
       "  <thead>\n",
       "    <tr style=\"text-align: right;\">\n",
       "      <th></th>\n",
       "      <th>season</th>\n",
       "      <th>batsman</th>\n",
       "      <th>batsman_runs</th>\n",
       "    </tr>\n",
       "  </thead>\n",
       "  <tbody>\n",
       "    <tr>\n",
       "      <th>4</th>\n",
       "      <td>2008</td>\n",
       "      <td>BB McCullum</td>\n",
       "      <td>195.833333</td>\n",
       "    </tr>\n",
       "    <tr>\n",
       "      <th>20</th>\n",
       "      <td>2009</td>\n",
       "      <td>WP Saha</td>\n",
       "      <td>175.609756</td>\n",
       "    </tr>\n",
       "    <tr>\n",
       "      <th>1</th>\n",
       "      <td>2010</td>\n",
       "      <td>MC Henriques</td>\n",
       "      <td>220.000000</td>\n",
       "    </tr>\n",
       "    <tr>\n",
       "      <th>9</th>\n",
       "      <td>2011</td>\n",
       "      <td>DJ Bravo</td>\n",
       "      <td>183.333333</td>\n",
       "    </tr>\n",
       "    <tr>\n",
       "      <th>22</th>\n",
       "      <td>2012</td>\n",
       "      <td>AD Russell</td>\n",
       "      <td>174.074074</td>\n",
       "    </tr>\n",
       "    <tr>\n",
       "      <th>37</th>\n",
       "      <td>2013</td>\n",
       "      <td>AB de Villiers</td>\n",
       "      <td>165.044248</td>\n",
       "    </tr>\n",
       "    <tr>\n",
       "      <th>0</th>\n",
       "      <td>2014</td>\n",
       "      <td>DJ Bravo</td>\n",
       "      <td>266.666667</td>\n",
       "    </tr>\n",
       "    <tr>\n",
       "      <th>2</th>\n",
       "      <td>2015</td>\n",
       "      <td>J Botha</td>\n",
       "      <td>206.666667</td>\n",
       "    </tr>\n",
       "    <tr>\n",
       "      <th>7</th>\n",
       "      <td>2016</td>\n",
       "      <td>KH Pandya</td>\n",
       "      <td>186.614173</td>\n",
       "    </tr>\n",
       "    <tr>\n",
       "      <th>31</th>\n",
       "      <td>2017</td>\n",
       "      <td>CA Lynn</td>\n",
       "      <td>168.571429</td>\n",
       "    </tr>\n",
       "    <tr>\n",
       "      <th>6</th>\n",
       "      <td>2018</td>\n",
       "      <td>SP Narine</td>\n",
       "      <td>188.383838</td>\n",
       "    </tr>\n",
       "    <tr>\n",
       "      <th>3</th>\n",
       "      <td>2019</td>\n",
       "      <td>AD Russell</td>\n",
       "      <td>198.905109</td>\n",
       "    </tr>\n",
       "  </tbody>\n",
       "</table>\n",
       "</div>"
      ],
      "text/plain": [
       "    season         batsman  batsman_runs\n",
       "4     2008     BB McCullum    195.833333\n",
       "20    2009         WP Saha    175.609756\n",
       "1     2010    MC Henriques    220.000000\n",
       "9     2011        DJ Bravo    183.333333\n",
       "22    2012      AD Russell    174.074074\n",
       "37    2013  AB de Villiers    165.044248\n",
       "0     2014        DJ Bravo    266.666667\n",
       "2     2015         J Botha    206.666667\n",
       "7     2016       KH Pandya    186.614173\n",
       "31    2017         CA Lynn    168.571429\n",
       "6     2018       SP Narine    188.383838\n",
       "3     2019      AD Russell    198.905109"
      ]
     },
     "execution_count": 202,
     "metadata": {},
     "output_type": "execute_result"
    }
   ],
   "source": [
    "SR_everySeason.sort_values(ascending=False).reset_index().drop_duplicates(subset = 'season' , keep='first').sort_values('season')"
   ]
  },
  {
   "cell_type": "code",
   "execution_count": 211,
   "id": "13e109c6",
   "metadata": {},
   "outputs": [],
   "source": [
    "super_over = merged_df[merged_df['is_super_over'] == 1 ]"
   ]
  },
  {
   "cell_type": "code",
   "execution_count": 223,
   "id": "74ce1b57",
   "metadata": {},
   "outputs": [
    {
     "data": {
      "text/html": [
       "<div>\n",
       "<style scoped>\n",
       "    .dataframe tbody tr th:only-of-type {\n",
       "        vertical-align: middle;\n",
       "    }\n",
       "\n",
       "    .dataframe tbody tr th {\n",
       "        vertical-align: top;\n",
       "    }\n",
       "\n",
       "    .dataframe thead th {\n",
       "        text-align: right;\n",
       "    }\n",
       "</style>\n",
       "<table border=\"1\" class=\"dataframe\">\n",
       "  <thead>\n",
       "    <tr style=\"text-align: right;\">\n",
       "      <th></th>\n",
       "      <th>season</th>\n",
       "      <th>winner</th>\n",
       "    </tr>\n",
       "  </thead>\n",
       "  <tbody>\n",
       "    <tr>\n",
       "      <th>29279</th>\n",
       "      <td>2009</td>\n",
       "      <td>Rajasthan Royals</td>\n",
       "    </tr>\n",
       "    <tr>\n",
       "      <th>44819</th>\n",
       "      <td>2010</td>\n",
       "      <td>Kings XI Punjab</td>\n",
       "    </tr>\n",
       "    <tr>\n",
       "      <th>91904</th>\n",
       "      <td>2013</td>\n",
       "      <td>Sunrisers Hyderabad</td>\n",
       "    </tr>\n",
       "    <tr>\n",
       "      <th>112912</th>\n",
       "      <td>2014</td>\n",
       "      <td>Rajasthan Royals</td>\n",
       "    </tr>\n",
       "    <tr>\n",
       "      <th>127359</th>\n",
       "      <td>2015</td>\n",
       "      <td>Kings XI Punjab</td>\n",
       "    </tr>\n",
       "    <tr>\n",
       "      <th>8092</th>\n",
       "      <td>2017</td>\n",
       "      <td>Mumbai Indians</td>\n",
       "    </tr>\n",
       "  </tbody>\n",
       "</table>\n",
       "</div>"
      ],
      "text/plain": [
       "        season               winner\n",
       "29279     2009     Rajasthan Royals\n",
       "44819     2010      Kings XI Punjab\n",
       "91904     2013  Sunrisers Hyderabad\n",
       "112912    2014     Rajasthan Royals\n",
       "127359    2015      Kings XI Punjab\n",
       "8092      2017       Mumbai Indians"
      ]
     },
     "execution_count": 223,
     "metadata": {},
     "output_type": "execute_result"
    }
   ],
   "source": [
    "super_over[['season','winner']].drop_duplicates(subset='season',keep='first').sort_values('season')"
   ]
  },
  {
   "cell_type": "code",
   "execution_count": null,
   "id": "12a391d4",
   "metadata": {},
   "outputs": [],
   "source": []
  }
 ],
 "metadata": {
  "kernelspec": {
   "display_name": "Python 3",
   "language": "python",
   "name": "python3"
  },
  "language_info": {
   "codemirror_mode": {
    "name": "ipython",
    "version": 3
   },
   "file_extension": ".py",
   "mimetype": "text/x-python",
   "name": "python",
   "nbconvert_exporter": "python",
   "pygments_lexer": "ipython3",
   "version": "3.8.8"
  }
 },
 "nbformat": 4,
 "nbformat_minor": 5
}
